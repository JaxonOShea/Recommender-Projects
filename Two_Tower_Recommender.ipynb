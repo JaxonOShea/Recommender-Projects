{
  "cells": [
    {
      "cell_type": "markdown",
      "metadata": {
        "id": "view-in-github",
        "colab_type": "text"
      },
      "source": [
        "<a href=\"https://colab.research.google.com/github/JaxonOShea/Recommender-Projects/blob/main/Two_Tower_Recommender_Ranking.ipynb\" target=\"_parent\"><img src=\"https://colab.research.google.com/assets/colab-badge.svg\" alt=\"Open In Colab\"/></a>"
      ]
    },
    {
      "cell_type": "markdown",
      "metadata": {
        "id": "cqk5hYPb8P0X"
      },
      "source": [
        "# Two Tower Recommender Study\n",
        "In the music streaming industry, providing personalized recommendations is essential for enhancing user experience and engagement. Recommender systems play a crucial role by predicting what users might want to listen to based on their past behavior and preferences.\n",
        "\n",
        "One effective approach is the Two-Tower model, also known as the Two-Tower Recommender. This collaborative filtering method matches users with songs or artists they might like by utilizing two separate neural networks (or towers). One tower processes user features, while the other processes item features.\n",
        "\n",
        "This notebook explores the implementation of a Two-Tower model for music recommendations, focusing on the impact of listener information—such as age, gender, and nationality—on the model's accuracy.\n",
        "\n",
        "---\n",
        "\n"
      ]
    },
    {
      "cell_type": "markdown",
      "metadata": {
        "id": "pctbhSCy5DjE"
      },
      "source": [
        "**Table of Contents**\n",
        "\n",
        "1. Data Wrangling and Preparation <br>\n",
        "  1.1 Loading Data <br>\n",
        "  1.2 Cleaning and Wrangling of Plays DF <br>\n",
        "  1.3 Cleaning and Wrangling of Users DF <br>\n",
        "  1.4 Preparing the Datasets <br>\n",
        "2. Query Model <br>\n",
        "  2.1 Baseline Model <br>\n",
        "  2.2 Model with all embeddings <br>\n",
        "3. Candidate Model <br>\n",
        "  3.1 Model <br>\n",
        "4. Combinded Models <br>\n",
        "  4.1 Baseline Model <br>\n",
        "  4.2 Model with Embeddings<br>\n",
        "  4.3 Results <br>\n",
        "5. Predictions <br>\n",
        "6. Summary <br>\n",
        "---"
      ]
    },
    {
      "cell_type": "markdown",
      "metadata": {
        "id": "_YQ5HTXhVRKz"
      },
      "source": [
        " 0. Libraries<br>\n",
        "\n",
        "All the necessary libraries and packages for completing this recommender are loaded here."
      ]
    },
    {
      "cell_type": "code",
      "execution_count": 1,
      "metadata": {
        "id": "0ZjF_Hijq7Yy",
        "colab": {
          "base_uri": "https://localhost:8080/"
        },
        "outputId": "212d91de-4449-40ec-d4c1-b0bce6d8640a"
      },
      "outputs": [
        {
          "output_type": "stream",
          "name": "stdout",
          "text": [
            "\u001b[?25l     \u001b[90m━━━━━━━━━━━━━━━━━━━━━━━━━━━━━━━━━━━━━━━━\u001b[0m \u001b[32m0.0/96.2 kB\u001b[0m \u001b[31m?\u001b[0m eta \u001b[36m-:--:--\u001b[0m\r\u001b[2K     \u001b[90m━━━━━━━━━━━━━━━━━━━━━━━━━━━━━━━━━━━━━━━━\u001b[0m \u001b[32m96.2/96.2 kB\u001b[0m \u001b[31m4.7 MB/s\u001b[0m eta \u001b[36m0:00:00\u001b[0m\n",
            "\u001b[?25h"
          ]
        }
      ],
      "source": [
        "# install tensorflow recommenders package\n",
        "!pip install -q tensorflow-recommenders"
      ]
    },
    {
      "cell_type": "code",
      "execution_count": 2,
      "metadata": {
        "id": "_K8YZ-iGdXFq"
      },
      "outputs": [],
      "source": [
        "# import required libraries\n",
        "import os\n",
        "import pandas as pd\n",
        "import numpy as np\n",
        "import tensorflow as tf\n",
        "import keras\n",
        "import tensorflow_recommenders as tfrs\n",
        "from typing import Dict, Text\n",
        "import matplotlib.pyplot as plt"
      ]
    },
    {
      "cell_type": "code",
      "execution_count": 3,
      "metadata": {
        "colab": {
          "base_uri": "https://localhost:8080/"
        },
        "id": "3BeN7FVsV4rJ",
        "outputId": "847b688a-56a8-46f0-e68f-b7edb0043d42"
      },
      "outputs": [
        {
          "output_type": "stream",
          "name": "stdout",
          "text": [
            "Mounted at /content/drive\n"
          ]
        }
      ],
      "source": [
        "# load google drive to access datafiles\n",
        "from google.colab import drive\n",
        "drive.mount('/content/drive')"
      ]
    },
    {
      "cell_type": "markdown",
      "metadata": {
        "id": "CwyPfoCmpXCH"
      },
      "source": [
        "# 1 - Data Wrangling and Preparation\n",
        "This section covers the initial steps of loading, cleaning, and organising the data needed for the Two-Tower Recommender model. Key aspects include handling missing values, converting to Tensorflow datasets, and separating the data into test, train and validation sets."
      ]
    },
    {
      "cell_type": "markdown",
      "metadata": {
        "id": "DVEdv7HfIpOs"
      },
      "source": [
        "1. Data Wrangling and Preparation <br>\n",
        "  1.1 Loading Data <br>"
      ]
    },
    {
      "cell_type": "markdown",
      "metadata": {
        "id": "RDuQQhYPX6-X"
      },
      "source": [
        "The data for this project was sourced from [last.fm](https://last.fm)\n",
        " and downloaded from [this website](https://http://ocelma.net/MusicRecommendationDataset/lastfm-360K.html)"
      ]
    },
    {
      "cell_type": "code",
      "execution_count": 4,
      "metadata": {
        "colab": {
          "base_uri": "https://localhost:8080/",
          "height": 206
        },
        "id": "GjapqxhNeAZC",
        "outputId": "a9d8992a-8c8a-4a30-affb-3c95da54bc2e"
      },
      "outputs": [
        {
          "output_type": "execute_result",
          "data": {
            "text/plain": [
              "                                  user_code  \\\n",
              "0  00000c289a1829a808ac09c00daf10bc3c4e223b   \n",
              "1  00000c289a1829a808ac09c00daf10bc3c4e223b   \n",
              "2  00000c289a1829a808ac09c00daf10bc3c4e223b   \n",
              "3  00000c289a1829a808ac09c00daf10bc3c4e223b   \n",
              "4  00000c289a1829a808ac09c00daf10bc3c4e223b   \n",
              "\n",
              "                            artist_code           artist_name  plays  \n",
              "0  3bd73256-3905-4f3a-97e2-8b341527f805       betty blowtorch   2137  \n",
              "1  f2fb0ff0-5679-42ec-a55c-15109ce6e320             die Ärzte   1099  \n",
              "2  b3ae82c2-e60b-4551-a76d-6620f1b456aa     melissa etheridge    897  \n",
              "3  3d6bbeb7-f90e-4d10-b440-e153c0d10b53             elvenking    717  \n",
              "4  bbd2ffd7-17f4-4506-8572-c1ea58c3f9a8  juliette & the licks    706  "
            ],
            "text/html": [
              "\n",
              "  <div id=\"df-32a5206d-707f-4bde-9bd3-ae0a87f4c754\" class=\"colab-df-container\">\n",
              "    <div>\n",
              "<style scoped>\n",
              "    .dataframe tbody tr th:only-of-type {\n",
              "        vertical-align: middle;\n",
              "    }\n",
              "\n",
              "    .dataframe tbody tr th {\n",
              "        vertical-align: top;\n",
              "    }\n",
              "\n",
              "    .dataframe thead th {\n",
              "        text-align: right;\n",
              "    }\n",
              "</style>\n",
              "<table border=\"1\" class=\"dataframe\">\n",
              "  <thead>\n",
              "    <tr style=\"text-align: right;\">\n",
              "      <th></th>\n",
              "      <th>user_code</th>\n",
              "      <th>artist_code</th>\n",
              "      <th>artist_name</th>\n",
              "      <th>plays</th>\n",
              "    </tr>\n",
              "  </thead>\n",
              "  <tbody>\n",
              "    <tr>\n",
              "      <th>0</th>\n",
              "      <td>00000c289a1829a808ac09c00daf10bc3c4e223b</td>\n",
              "      <td>3bd73256-3905-4f3a-97e2-8b341527f805</td>\n",
              "      <td>betty blowtorch</td>\n",
              "      <td>2137</td>\n",
              "    </tr>\n",
              "    <tr>\n",
              "      <th>1</th>\n",
              "      <td>00000c289a1829a808ac09c00daf10bc3c4e223b</td>\n",
              "      <td>f2fb0ff0-5679-42ec-a55c-15109ce6e320</td>\n",
              "      <td>die Ärzte</td>\n",
              "      <td>1099</td>\n",
              "    </tr>\n",
              "    <tr>\n",
              "      <th>2</th>\n",
              "      <td>00000c289a1829a808ac09c00daf10bc3c4e223b</td>\n",
              "      <td>b3ae82c2-e60b-4551-a76d-6620f1b456aa</td>\n",
              "      <td>melissa etheridge</td>\n",
              "      <td>897</td>\n",
              "    </tr>\n",
              "    <tr>\n",
              "      <th>3</th>\n",
              "      <td>00000c289a1829a808ac09c00daf10bc3c4e223b</td>\n",
              "      <td>3d6bbeb7-f90e-4d10-b440-e153c0d10b53</td>\n",
              "      <td>elvenking</td>\n",
              "      <td>717</td>\n",
              "    </tr>\n",
              "    <tr>\n",
              "      <th>4</th>\n",
              "      <td>00000c289a1829a808ac09c00daf10bc3c4e223b</td>\n",
              "      <td>bbd2ffd7-17f4-4506-8572-c1ea58c3f9a8</td>\n",
              "      <td>juliette &amp; the licks</td>\n",
              "      <td>706</td>\n",
              "    </tr>\n",
              "  </tbody>\n",
              "</table>\n",
              "</div>\n",
              "    <div class=\"colab-df-buttons\">\n",
              "\n",
              "  <div class=\"colab-df-container\">\n",
              "    <button class=\"colab-df-convert\" onclick=\"convertToInteractive('df-32a5206d-707f-4bde-9bd3-ae0a87f4c754')\"\n",
              "            title=\"Convert this dataframe to an interactive table.\"\n",
              "            style=\"display:none;\">\n",
              "\n",
              "  <svg xmlns=\"http://www.w3.org/2000/svg\" height=\"24px\" viewBox=\"0 -960 960 960\">\n",
              "    <path d=\"M120-120v-720h720v720H120Zm60-500h600v-160H180v160Zm220 220h160v-160H400v160Zm0 220h160v-160H400v160ZM180-400h160v-160H180v160Zm440 0h160v-160H620v160ZM180-180h160v-160H180v160Zm440 0h160v-160H620v160Z\"/>\n",
              "  </svg>\n",
              "    </button>\n",
              "\n",
              "  <style>\n",
              "    .colab-df-container {\n",
              "      display:flex;\n",
              "      gap: 12px;\n",
              "    }\n",
              "\n",
              "    .colab-df-convert {\n",
              "      background-color: #E8F0FE;\n",
              "      border: none;\n",
              "      border-radius: 50%;\n",
              "      cursor: pointer;\n",
              "      display: none;\n",
              "      fill: #1967D2;\n",
              "      height: 32px;\n",
              "      padding: 0 0 0 0;\n",
              "      width: 32px;\n",
              "    }\n",
              "\n",
              "    .colab-df-convert:hover {\n",
              "      background-color: #E2EBFA;\n",
              "      box-shadow: 0px 1px 2px rgba(60, 64, 67, 0.3), 0px 1px 3px 1px rgba(60, 64, 67, 0.15);\n",
              "      fill: #174EA6;\n",
              "    }\n",
              "\n",
              "    .colab-df-buttons div {\n",
              "      margin-bottom: 4px;\n",
              "    }\n",
              "\n",
              "    [theme=dark] .colab-df-convert {\n",
              "      background-color: #3B4455;\n",
              "      fill: #D2E3FC;\n",
              "    }\n",
              "\n",
              "    [theme=dark] .colab-df-convert:hover {\n",
              "      background-color: #434B5C;\n",
              "      box-shadow: 0px 1px 3px 1px rgba(0, 0, 0, 0.15);\n",
              "      filter: drop-shadow(0px 1px 2px rgba(0, 0, 0, 0.3));\n",
              "      fill: #FFFFFF;\n",
              "    }\n",
              "  </style>\n",
              "\n",
              "    <script>\n",
              "      const buttonEl =\n",
              "        document.querySelector('#df-32a5206d-707f-4bde-9bd3-ae0a87f4c754 button.colab-df-convert');\n",
              "      buttonEl.style.display =\n",
              "        google.colab.kernel.accessAllowed ? 'block' : 'none';\n",
              "\n",
              "      async function convertToInteractive(key) {\n",
              "        const element = document.querySelector('#df-32a5206d-707f-4bde-9bd3-ae0a87f4c754');\n",
              "        const dataTable =\n",
              "          await google.colab.kernel.invokeFunction('convertToInteractive',\n",
              "                                                    [key], {});\n",
              "        if (!dataTable) return;\n",
              "\n",
              "        const docLinkHtml = 'Like what you see? Visit the ' +\n",
              "          '<a target=\"_blank\" href=https://colab.research.google.com/notebooks/data_table.ipynb>data table notebook</a>'\n",
              "          + ' to learn more about interactive tables.';\n",
              "        element.innerHTML = '';\n",
              "        dataTable['output_type'] = 'display_data';\n",
              "        await google.colab.output.renderOutput(dataTable, element);\n",
              "        const docLink = document.createElement('div');\n",
              "        docLink.innerHTML = docLinkHtml;\n",
              "        element.appendChild(docLink);\n",
              "      }\n",
              "    </script>\n",
              "  </div>\n",
              "\n",
              "\n",
              "<div id=\"df-2e7656ba-2bf7-4a16-956c-1e97b097afb3\">\n",
              "  <button class=\"colab-df-quickchart\" onclick=\"quickchart('df-2e7656ba-2bf7-4a16-956c-1e97b097afb3')\"\n",
              "            title=\"Suggest charts\"\n",
              "            style=\"display:none;\">\n",
              "\n",
              "<svg xmlns=\"http://www.w3.org/2000/svg\" height=\"24px\"viewBox=\"0 0 24 24\"\n",
              "     width=\"24px\">\n",
              "    <g>\n",
              "        <path d=\"M19 3H5c-1.1 0-2 .9-2 2v14c0 1.1.9 2 2 2h14c1.1 0 2-.9 2-2V5c0-1.1-.9-2-2-2zM9 17H7v-7h2v7zm4 0h-2V7h2v10zm4 0h-2v-4h2v4z\"/>\n",
              "    </g>\n",
              "</svg>\n",
              "  </button>\n",
              "\n",
              "<style>\n",
              "  .colab-df-quickchart {\n",
              "      --bg-color: #E8F0FE;\n",
              "      --fill-color: #1967D2;\n",
              "      --hover-bg-color: #E2EBFA;\n",
              "      --hover-fill-color: #174EA6;\n",
              "      --disabled-fill-color: #AAA;\n",
              "      --disabled-bg-color: #DDD;\n",
              "  }\n",
              "\n",
              "  [theme=dark] .colab-df-quickchart {\n",
              "      --bg-color: #3B4455;\n",
              "      --fill-color: #D2E3FC;\n",
              "      --hover-bg-color: #434B5C;\n",
              "      --hover-fill-color: #FFFFFF;\n",
              "      --disabled-bg-color: #3B4455;\n",
              "      --disabled-fill-color: #666;\n",
              "  }\n",
              "\n",
              "  .colab-df-quickchart {\n",
              "    background-color: var(--bg-color);\n",
              "    border: none;\n",
              "    border-radius: 50%;\n",
              "    cursor: pointer;\n",
              "    display: none;\n",
              "    fill: var(--fill-color);\n",
              "    height: 32px;\n",
              "    padding: 0;\n",
              "    width: 32px;\n",
              "  }\n",
              "\n",
              "  .colab-df-quickchart:hover {\n",
              "    background-color: var(--hover-bg-color);\n",
              "    box-shadow: 0 1px 2px rgba(60, 64, 67, 0.3), 0 1px 3px 1px rgba(60, 64, 67, 0.15);\n",
              "    fill: var(--button-hover-fill-color);\n",
              "  }\n",
              "\n",
              "  .colab-df-quickchart-complete:disabled,\n",
              "  .colab-df-quickchart-complete:disabled:hover {\n",
              "    background-color: var(--disabled-bg-color);\n",
              "    fill: var(--disabled-fill-color);\n",
              "    box-shadow: none;\n",
              "  }\n",
              "\n",
              "  .colab-df-spinner {\n",
              "    border: 2px solid var(--fill-color);\n",
              "    border-color: transparent;\n",
              "    border-bottom-color: var(--fill-color);\n",
              "    animation:\n",
              "      spin 1s steps(1) infinite;\n",
              "  }\n",
              "\n",
              "  @keyframes spin {\n",
              "    0% {\n",
              "      border-color: transparent;\n",
              "      border-bottom-color: var(--fill-color);\n",
              "      border-left-color: var(--fill-color);\n",
              "    }\n",
              "    20% {\n",
              "      border-color: transparent;\n",
              "      border-left-color: var(--fill-color);\n",
              "      border-top-color: var(--fill-color);\n",
              "    }\n",
              "    30% {\n",
              "      border-color: transparent;\n",
              "      border-left-color: var(--fill-color);\n",
              "      border-top-color: var(--fill-color);\n",
              "      border-right-color: var(--fill-color);\n",
              "    }\n",
              "    40% {\n",
              "      border-color: transparent;\n",
              "      border-right-color: var(--fill-color);\n",
              "      border-top-color: var(--fill-color);\n",
              "    }\n",
              "    60% {\n",
              "      border-color: transparent;\n",
              "      border-right-color: var(--fill-color);\n",
              "    }\n",
              "    80% {\n",
              "      border-color: transparent;\n",
              "      border-right-color: var(--fill-color);\n",
              "      border-bottom-color: var(--fill-color);\n",
              "    }\n",
              "    90% {\n",
              "      border-color: transparent;\n",
              "      border-bottom-color: var(--fill-color);\n",
              "    }\n",
              "  }\n",
              "</style>\n",
              "\n",
              "  <script>\n",
              "    async function quickchart(key) {\n",
              "      const quickchartButtonEl =\n",
              "        document.querySelector('#' + key + ' button');\n",
              "      quickchartButtonEl.disabled = true;  // To prevent multiple clicks.\n",
              "      quickchartButtonEl.classList.add('colab-df-spinner');\n",
              "      try {\n",
              "        const charts = await google.colab.kernel.invokeFunction(\n",
              "            'suggestCharts', [key], {});\n",
              "      } catch (error) {\n",
              "        console.error('Error during call to suggestCharts:', error);\n",
              "      }\n",
              "      quickchartButtonEl.classList.remove('colab-df-spinner');\n",
              "      quickchartButtonEl.classList.add('colab-df-quickchart-complete');\n",
              "    }\n",
              "    (() => {\n",
              "      let quickchartButtonEl =\n",
              "        document.querySelector('#df-2e7656ba-2bf7-4a16-956c-1e97b097afb3 button');\n",
              "      quickchartButtonEl.style.display =\n",
              "        google.colab.kernel.accessAllowed ? 'block' : 'none';\n",
              "    })();\n",
              "  </script>\n",
              "</div>\n",
              "\n",
              "    </div>\n",
              "  </div>\n"
            ],
            "application/vnd.google.colaboratory.intrinsic+json": {
              "type": "dataframe",
              "variable_name": "df_plays"
            }
          },
          "metadata": {},
          "execution_count": 4
        }
      ],
      "source": [
        "# define project directory and show subfolders/files\n",
        "dir = \"/content/drive/MyDrive/Colab Notebooks/Recommenders/02-Two_Tower_Model\"\n",
        "\n",
        "#Import play data to dataframe and add column names\n",
        "df_plays = pd.read_csv(os.path.join(dir, '01-Data', 'usersha1-artmbid-artname-plays.tsv'), sep='\\t', names=['user_code', 'artist_code', 'artist_name', 'plays'])\n",
        "df_plays.head()"
      ]
    },
    {
      "cell_type": "code",
      "execution_count": 5,
      "metadata": {
        "colab": {
          "base_uri": "https://localhost:8080/",
          "height": 206
        },
        "id": "9yDzWAegewL4",
        "outputId": "f05335a9-433a-41d0-edf4-d19ec281fd58"
      },
      "outputs": [
        {
          "output_type": "execute_result",
          "data": {
            "text/plain": [
              "                                  user_code gender   age        country  \\\n",
              "0  00000c289a1829a808ac09c00daf10bc3c4e223b      f  22.0        Germany   \n",
              "1  00001411dc427966b17297bf4d69e7e193135d89      f   NaN         Canada   \n",
              "2  00004d2ac9316e22dc007ab2243d6fcb239e707d    NaN   NaN        Germany   \n",
              "3  000063d3fe1cf2ba248b9e3c3f0334845a27a6bf      m  19.0         Mexico   \n",
              "4  00007a47085b9aab8af55f52ec8846ac479ac4fe      m  28.0  United States   \n",
              "\n",
              "         signup  \n",
              "0   Feb 1, 2007  \n",
              "1   Dec 4, 2007  \n",
              "2   Sep 1, 2006  \n",
              "3  Apr 28, 2008  \n",
              "4  Jan 27, 2006  "
            ],
            "text/html": [
              "\n",
              "  <div id=\"df-3ef4d8b5-d529-4c3a-89e5-f3741dfae844\" class=\"colab-df-container\">\n",
              "    <div>\n",
              "<style scoped>\n",
              "    .dataframe tbody tr th:only-of-type {\n",
              "        vertical-align: middle;\n",
              "    }\n",
              "\n",
              "    .dataframe tbody tr th {\n",
              "        vertical-align: top;\n",
              "    }\n",
              "\n",
              "    .dataframe thead th {\n",
              "        text-align: right;\n",
              "    }\n",
              "</style>\n",
              "<table border=\"1\" class=\"dataframe\">\n",
              "  <thead>\n",
              "    <tr style=\"text-align: right;\">\n",
              "      <th></th>\n",
              "      <th>user_code</th>\n",
              "      <th>gender</th>\n",
              "      <th>age</th>\n",
              "      <th>country</th>\n",
              "      <th>signup</th>\n",
              "    </tr>\n",
              "  </thead>\n",
              "  <tbody>\n",
              "    <tr>\n",
              "      <th>0</th>\n",
              "      <td>00000c289a1829a808ac09c00daf10bc3c4e223b</td>\n",
              "      <td>f</td>\n",
              "      <td>22.0</td>\n",
              "      <td>Germany</td>\n",
              "      <td>Feb 1, 2007</td>\n",
              "    </tr>\n",
              "    <tr>\n",
              "      <th>1</th>\n",
              "      <td>00001411dc427966b17297bf4d69e7e193135d89</td>\n",
              "      <td>f</td>\n",
              "      <td>NaN</td>\n",
              "      <td>Canada</td>\n",
              "      <td>Dec 4, 2007</td>\n",
              "    </tr>\n",
              "    <tr>\n",
              "      <th>2</th>\n",
              "      <td>00004d2ac9316e22dc007ab2243d6fcb239e707d</td>\n",
              "      <td>NaN</td>\n",
              "      <td>NaN</td>\n",
              "      <td>Germany</td>\n",
              "      <td>Sep 1, 2006</td>\n",
              "    </tr>\n",
              "    <tr>\n",
              "      <th>3</th>\n",
              "      <td>000063d3fe1cf2ba248b9e3c3f0334845a27a6bf</td>\n",
              "      <td>m</td>\n",
              "      <td>19.0</td>\n",
              "      <td>Mexico</td>\n",
              "      <td>Apr 28, 2008</td>\n",
              "    </tr>\n",
              "    <tr>\n",
              "      <th>4</th>\n",
              "      <td>00007a47085b9aab8af55f52ec8846ac479ac4fe</td>\n",
              "      <td>m</td>\n",
              "      <td>28.0</td>\n",
              "      <td>United States</td>\n",
              "      <td>Jan 27, 2006</td>\n",
              "    </tr>\n",
              "  </tbody>\n",
              "</table>\n",
              "</div>\n",
              "    <div class=\"colab-df-buttons\">\n",
              "\n",
              "  <div class=\"colab-df-container\">\n",
              "    <button class=\"colab-df-convert\" onclick=\"convertToInteractive('df-3ef4d8b5-d529-4c3a-89e5-f3741dfae844')\"\n",
              "            title=\"Convert this dataframe to an interactive table.\"\n",
              "            style=\"display:none;\">\n",
              "\n",
              "  <svg xmlns=\"http://www.w3.org/2000/svg\" height=\"24px\" viewBox=\"0 -960 960 960\">\n",
              "    <path d=\"M120-120v-720h720v720H120Zm60-500h600v-160H180v160Zm220 220h160v-160H400v160Zm0 220h160v-160H400v160ZM180-400h160v-160H180v160Zm440 0h160v-160H620v160ZM180-180h160v-160H180v160Zm440 0h160v-160H620v160Z\"/>\n",
              "  </svg>\n",
              "    </button>\n",
              "\n",
              "  <style>\n",
              "    .colab-df-container {\n",
              "      display:flex;\n",
              "      gap: 12px;\n",
              "    }\n",
              "\n",
              "    .colab-df-convert {\n",
              "      background-color: #E8F0FE;\n",
              "      border: none;\n",
              "      border-radius: 50%;\n",
              "      cursor: pointer;\n",
              "      display: none;\n",
              "      fill: #1967D2;\n",
              "      height: 32px;\n",
              "      padding: 0 0 0 0;\n",
              "      width: 32px;\n",
              "    }\n",
              "\n",
              "    .colab-df-convert:hover {\n",
              "      background-color: #E2EBFA;\n",
              "      box-shadow: 0px 1px 2px rgba(60, 64, 67, 0.3), 0px 1px 3px 1px rgba(60, 64, 67, 0.15);\n",
              "      fill: #174EA6;\n",
              "    }\n",
              "\n",
              "    .colab-df-buttons div {\n",
              "      margin-bottom: 4px;\n",
              "    }\n",
              "\n",
              "    [theme=dark] .colab-df-convert {\n",
              "      background-color: #3B4455;\n",
              "      fill: #D2E3FC;\n",
              "    }\n",
              "\n",
              "    [theme=dark] .colab-df-convert:hover {\n",
              "      background-color: #434B5C;\n",
              "      box-shadow: 0px 1px 3px 1px rgba(0, 0, 0, 0.15);\n",
              "      filter: drop-shadow(0px 1px 2px rgba(0, 0, 0, 0.3));\n",
              "      fill: #FFFFFF;\n",
              "    }\n",
              "  </style>\n",
              "\n",
              "    <script>\n",
              "      const buttonEl =\n",
              "        document.querySelector('#df-3ef4d8b5-d529-4c3a-89e5-f3741dfae844 button.colab-df-convert');\n",
              "      buttonEl.style.display =\n",
              "        google.colab.kernel.accessAllowed ? 'block' : 'none';\n",
              "\n",
              "      async function convertToInteractive(key) {\n",
              "        const element = document.querySelector('#df-3ef4d8b5-d529-4c3a-89e5-f3741dfae844');\n",
              "        const dataTable =\n",
              "          await google.colab.kernel.invokeFunction('convertToInteractive',\n",
              "                                                    [key], {});\n",
              "        if (!dataTable) return;\n",
              "\n",
              "        const docLinkHtml = 'Like what you see? Visit the ' +\n",
              "          '<a target=\"_blank\" href=https://colab.research.google.com/notebooks/data_table.ipynb>data table notebook</a>'\n",
              "          + ' to learn more about interactive tables.';\n",
              "        element.innerHTML = '';\n",
              "        dataTable['output_type'] = 'display_data';\n",
              "        await google.colab.output.renderOutput(dataTable, element);\n",
              "        const docLink = document.createElement('div');\n",
              "        docLink.innerHTML = docLinkHtml;\n",
              "        element.appendChild(docLink);\n",
              "      }\n",
              "    </script>\n",
              "  </div>\n",
              "\n",
              "\n",
              "<div id=\"df-ddddb435-d16f-446e-a029-cb3220eba5c9\">\n",
              "  <button class=\"colab-df-quickchart\" onclick=\"quickchart('df-ddddb435-d16f-446e-a029-cb3220eba5c9')\"\n",
              "            title=\"Suggest charts\"\n",
              "            style=\"display:none;\">\n",
              "\n",
              "<svg xmlns=\"http://www.w3.org/2000/svg\" height=\"24px\"viewBox=\"0 0 24 24\"\n",
              "     width=\"24px\">\n",
              "    <g>\n",
              "        <path d=\"M19 3H5c-1.1 0-2 .9-2 2v14c0 1.1.9 2 2 2h14c1.1 0 2-.9 2-2V5c0-1.1-.9-2-2-2zM9 17H7v-7h2v7zm4 0h-2V7h2v10zm4 0h-2v-4h2v4z\"/>\n",
              "    </g>\n",
              "</svg>\n",
              "  </button>\n",
              "\n",
              "<style>\n",
              "  .colab-df-quickchart {\n",
              "      --bg-color: #E8F0FE;\n",
              "      --fill-color: #1967D2;\n",
              "      --hover-bg-color: #E2EBFA;\n",
              "      --hover-fill-color: #174EA6;\n",
              "      --disabled-fill-color: #AAA;\n",
              "      --disabled-bg-color: #DDD;\n",
              "  }\n",
              "\n",
              "  [theme=dark] .colab-df-quickchart {\n",
              "      --bg-color: #3B4455;\n",
              "      --fill-color: #D2E3FC;\n",
              "      --hover-bg-color: #434B5C;\n",
              "      --hover-fill-color: #FFFFFF;\n",
              "      --disabled-bg-color: #3B4455;\n",
              "      --disabled-fill-color: #666;\n",
              "  }\n",
              "\n",
              "  .colab-df-quickchart {\n",
              "    background-color: var(--bg-color);\n",
              "    border: none;\n",
              "    border-radius: 50%;\n",
              "    cursor: pointer;\n",
              "    display: none;\n",
              "    fill: var(--fill-color);\n",
              "    height: 32px;\n",
              "    padding: 0;\n",
              "    width: 32px;\n",
              "  }\n",
              "\n",
              "  .colab-df-quickchart:hover {\n",
              "    background-color: var(--hover-bg-color);\n",
              "    box-shadow: 0 1px 2px rgba(60, 64, 67, 0.3), 0 1px 3px 1px rgba(60, 64, 67, 0.15);\n",
              "    fill: var(--button-hover-fill-color);\n",
              "  }\n",
              "\n",
              "  .colab-df-quickchart-complete:disabled,\n",
              "  .colab-df-quickchart-complete:disabled:hover {\n",
              "    background-color: var(--disabled-bg-color);\n",
              "    fill: var(--disabled-fill-color);\n",
              "    box-shadow: none;\n",
              "  }\n",
              "\n",
              "  .colab-df-spinner {\n",
              "    border: 2px solid var(--fill-color);\n",
              "    border-color: transparent;\n",
              "    border-bottom-color: var(--fill-color);\n",
              "    animation:\n",
              "      spin 1s steps(1) infinite;\n",
              "  }\n",
              "\n",
              "  @keyframes spin {\n",
              "    0% {\n",
              "      border-color: transparent;\n",
              "      border-bottom-color: var(--fill-color);\n",
              "      border-left-color: var(--fill-color);\n",
              "    }\n",
              "    20% {\n",
              "      border-color: transparent;\n",
              "      border-left-color: var(--fill-color);\n",
              "      border-top-color: var(--fill-color);\n",
              "    }\n",
              "    30% {\n",
              "      border-color: transparent;\n",
              "      border-left-color: var(--fill-color);\n",
              "      border-top-color: var(--fill-color);\n",
              "      border-right-color: var(--fill-color);\n",
              "    }\n",
              "    40% {\n",
              "      border-color: transparent;\n",
              "      border-right-color: var(--fill-color);\n",
              "      border-top-color: var(--fill-color);\n",
              "    }\n",
              "    60% {\n",
              "      border-color: transparent;\n",
              "      border-right-color: var(--fill-color);\n",
              "    }\n",
              "    80% {\n",
              "      border-color: transparent;\n",
              "      border-right-color: var(--fill-color);\n",
              "      border-bottom-color: var(--fill-color);\n",
              "    }\n",
              "    90% {\n",
              "      border-color: transparent;\n",
              "      border-bottom-color: var(--fill-color);\n",
              "    }\n",
              "  }\n",
              "</style>\n",
              "\n",
              "  <script>\n",
              "    async function quickchart(key) {\n",
              "      const quickchartButtonEl =\n",
              "        document.querySelector('#' + key + ' button');\n",
              "      quickchartButtonEl.disabled = true;  // To prevent multiple clicks.\n",
              "      quickchartButtonEl.classList.add('colab-df-spinner');\n",
              "      try {\n",
              "        const charts = await google.colab.kernel.invokeFunction(\n",
              "            'suggestCharts', [key], {});\n",
              "      } catch (error) {\n",
              "        console.error('Error during call to suggestCharts:', error);\n",
              "      }\n",
              "      quickchartButtonEl.classList.remove('colab-df-spinner');\n",
              "      quickchartButtonEl.classList.add('colab-df-quickchart-complete');\n",
              "    }\n",
              "    (() => {\n",
              "      let quickchartButtonEl =\n",
              "        document.querySelector('#df-ddddb435-d16f-446e-a029-cb3220eba5c9 button');\n",
              "      quickchartButtonEl.style.display =\n",
              "        google.colab.kernel.accessAllowed ? 'block' : 'none';\n",
              "    })();\n",
              "  </script>\n",
              "</div>\n",
              "\n",
              "    </div>\n",
              "  </div>\n"
            ],
            "application/vnd.google.colaboratory.intrinsic+json": {
              "type": "dataframe",
              "variable_name": "df_users"
            }
          },
          "metadata": {},
          "execution_count": 5
        }
      ],
      "source": [
        "#Import user profile data to dataframe and add column names\n",
        "df_users = pd.read_csv(os.path.join(dir, '01-Data', 'usersha1-profile.tsv'), sep='\\t', names=['user_code', 'gender', 'age', 'country', 'signup'])\n",
        "df_users.head()"
      ]
    },
    {
      "cell_type": "markdown",
      "metadata": {
        "id": "y-rfUGr7gOiC"
      },
      "source": [
        "  1.2 Cleaning and Wrangling of Plays DF <br>"
      ]
    },
    {
      "cell_type": "markdown",
      "metadata": {
        "id": "WCyPFB5IhV9y"
      },
      "source": [
        "Before using the data for the recommender system, it is essential to review and clean it. In this example, the data will be checked for its size, the number of unique entries, and the presence of any null values."
      ]
    },
    {
      "cell_type": "code",
      "execution_count": 6,
      "metadata": {
        "colab": {
          "base_uri": "https://localhost:8080/"
        },
        "id": "vYUfZ1f5gOqS",
        "outputId": "c9a58217-bef2-4a17-b7c5-e5f092698a3c"
      },
      "outputs": [
        {
          "output_type": "stream",
          "name": "stdout",
          "text": [
            "Number of lines in dataframe: 17535655\n",
            "Number of unique users in dataframe: 358868\n",
            "Number of unique artists in dataframe by code: 160112\n",
            "Number of unique artists in dataframe by name: 292363\n",
            "Null values per column:\n",
            " user_code           0\n",
            "artist_code    226137\n",
            "artist_name       204\n",
            "plays               0\n",
            "dtype: int64\n"
          ]
        }
      ],
      "source": [
        "# basic exploritory analysis of dataframe\n",
        "print('Number of lines in dataframe:', df_plays.shape[0])\n",
        "print('Number of unique users in dataframe:', df_plays['user_code'].nunique())\n",
        "print('Number of unique artists in dataframe by code:', df_plays['artist_code'].nunique())\n",
        "print('Number of unique artists in dataframe by name:', df_plays['artist_name'].nunique())\n",
        "\n",
        "# checking for null values\n",
        "print('Null values per column:\\n',df_plays.isna().sum())"
      ]
    },
    {
      "cell_type": "markdown",
      "metadata": {
        "id": "_XSibzJmh5dZ"
      },
      "source": [
        "From the results, approximately 226,000 entries have incomplete artist information. For this tutorial only the artist_name will be used, so the entries with missing artist_code can be ignored and the one missing artist_name will be removed."
      ]
    },
    {
      "cell_type": "code",
      "execution_count": 7,
      "metadata": {
        "colab": {
          "base_uri": "https://localhost:8080/"
        },
        "id": "4cdMqvMAjCcb",
        "outputId": "cc904d4f-2917-40d3-e476-4f358e9173ff"
      },
      "outputs": [
        {
          "output_type": "execute_result",
          "data": {
            "text/plain": [
              "user_code           0\n",
              "artist_code    226135\n",
              "artist_name         0\n",
              "plays               0\n",
              "dtype: int64"
            ]
          },
          "metadata": {},
          "execution_count": 7
        }
      ],
      "source": [
        "# remove null values from dataframe\n",
        "df_plays = df_plays[df_plays['artist_name'].notna()]\n",
        "df_plays.isna().sum()"
      ]
    },
    {
      "cell_type": "code",
      "execution_count": 8,
      "metadata": {
        "id": "mmEj556woFgP"
      },
      "outputs": [],
      "source": [
        "# remove column artist_code from dataframe because there are too many null values\n",
        "df_plays = df_plays[['user_code', 'artist_name', 'plays']]\n"
      ]
    },
    {
      "cell_type": "markdown",
      "metadata": {
        "id": "C_ABwJuXdUbq"
      },
      "source": [
        "  1.3 Cleaning and Wrangling of Users DF <br>"
      ]
    },
    {
      "cell_type": "code",
      "execution_count": 9,
      "metadata": {
        "colab": {
          "base_uri": "https://localhost:8080/"
        },
        "id": "FRCPS3Q_qand",
        "outputId": "bbf8d18b-f824-4c42-edc6-558e34e973c6"
      },
      "outputs": [
        {
          "output_type": "stream",
          "name": "stdout",
          "text": [
            "user_code        0\n",
            "gender       32775\n",
            "age          74900\n",
            "country          0\n",
            "signup           0\n",
            "dtype: int64\n"
          ]
        }
      ],
      "source": [
        "# checking for null values in\n",
        "print(df_users.isna().sum())"
      ]
    },
    {
      "cell_type": "markdown",
      "metadata": {
        "id": "GlKvdMSkrSrJ"
      },
      "source": [
        "There are only null values in the gender and age. This isn't an issue as both these feature will be treated as categorical data when creating the embeddings."
      ]
    },
    {
      "cell_type": "code",
      "execution_count": 10,
      "metadata": {
        "colab": {
          "base_uri": "https://localhost:8080/"
        },
        "collapsed": true,
        "id": "z7hThqAAvE30",
        "outputId": "e5360db0-0027-4515-bac3-1cf6e5bb43d4"
      },
      "outputs": [
        {
          "output_type": "execute_result",
          "data": {
            "text/plain": [
              "user_code    object\n",
              "gender       object\n",
              "age          object\n",
              "country      object\n",
              "signup       object\n",
              "dtype: object"
            ]
          },
          "metadata": {},
          "execution_count": 10
        }
      ],
      "source": [
        "# to ensure the input data is compatible with TensorFlow, null value will be replaced and the data type is changed\n",
        "df_users = df_users.fillna(0)\n",
        "df_users[['age']] = df_users[['age']].astype('str')\n",
        "df_users[['gender']] = df_users[['gender']].astype('str')\n",
        "df_users.dtypes"
      ]
    },
    {
      "cell_type": "markdown",
      "metadata": {
        "id": "TlbhoA_9rO-K"
      },
      "source": [
        "The two dataframes need to be combined to one for the purpose of training, testing and validation. The dataframes will be join in the user codes."
      ]
    },
    {
      "cell_type": "code",
      "execution_count": 11,
      "metadata": {
        "colab": {
          "base_uri": "https://localhost:8080/",
          "height": 206
        },
        "id": "Rmvsqmw2rOgU",
        "outputId": "1f58e879-6675-4301-e25e-d1fdc0661431"
      },
      "outputs": [
        {
          "output_type": "execute_result",
          "data": {
            "text/plain": [
              "                                  user_code           artist_name  plays  \\\n",
              "0  00000c289a1829a808ac09c00daf10bc3c4e223b       betty blowtorch   2137   \n",
              "1  00000c289a1829a808ac09c00daf10bc3c4e223b             die Ärzte   1099   \n",
              "2  00000c289a1829a808ac09c00daf10bc3c4e223b     melissa etheridge    897   \n",
              "3  00000c289a1829a808ac09c00daf10bc3c4e223b             elvenking    717   \n",
              "4  00000c289a1829a808ac09c00daf10bc3c4e223b  juliette & the licks    706   \n",
              "\n",
              "  gender   age  country       signup  \n",
              "0      f  22.0  Germany  Feb 1, 2007  \n",
              "1      f  22.0  Germany  Feb 1, 2007  \n",
              "2      f  22.0  Germany  Feb 1, 2007  \n",
              "3      f  22.0  Germany  Feb 1, 2007  \n",
              "4      f  22.0  Germany  Feb 1, 2007  "
            ],
            "text/html": [
              "\n",
              "  <div id=\"df-619e55ed-88a6-423f-938f-a3bf94d8dfff\" class=\"colab-df-container\">\n",
              "    <div>\n",
              "<style scoped>\n",
              "    .dataframe tbody tr th:only-of-type {\n",
              "        vertical-align: middle;\n",
              "    }\n",
              "\n",
              "    .dataframe tbody tr th {\n",
              "        vertical-align: top;\n",
              "    }\n",
              "\n",
              "    .dataframe thead th {\n",
              "        text-align: right;\n",
              "    }\n",
              "</style>\n",
              "<table border=\"1\" class=\"dataframe\">\n",
              "  <thead>\n",
              "    <tr style=\"text-align: right;\">\n",
              "      <th></th>\n",
              "      <th>user_code</th>\n",
              "      <th>artist_name</th>\n",
              "      <th>plays</th>\n",
              "      <th>gender</th>\n",
              "      <th>age</th>\n",
              "      <th>country</th>\n",
              "      <th>signup</th>\n",
              "    </tr>\n",
              "  </thead>\n",
              "  <tbody>\n",
              "    <tr>\n",
              "      <th>0</th>\n",
              "      <td>00000c289a1829a808ac09c00daf10bc3c4e223b</td>\n",
              "      <td>betty blowtorch</td>\n",
              "      <td>2137</td>\n",
              "      <td>f</td>\n",
              "      <td>22.0</td>\n",
              "      <td>Germany</td>\n",
              "      <td>Feb 1, 2007</td>\n",
              "    </tr>\n",
              "    <tr>\n",
              "      <th>1</th>\n",
              "      <td>00000c289a1829a808ac09c00daf10bc3c4e223b</td>\n",
              "      <td>die Ärzte</td>\n",
              "      <td>1099</td>\n",
              "      <td>f</td>\n",
              "      <td>22.0</td>\n",
              "      <td>Germany</td>\n",
              "      <td>Feb 1, 2007</td>\n",
              "    </tr>\n",
              "    <tr>\n",
              "      <th>2</th>\n",
              "      <td>00000c289a1829a808ac09c00daf10bc3c4e223b</td>\n",
              "      <td>melissa etheridge</td>\n",
              "      <td>897</td>\n",
              "      <td>f</td>\n",
              "      <td>22.0</td>\n",
              "      <td>Germany</td>\n",
              "      <td>Feb 1, 2007</td>\n",
              "    </tr>\n",
              "    <tr>\n",
              "      <th>3</th>\n",
              "      <td>00000c289a1829a808ac09c00daf10bc3c4e223b</td>\n",
              "      <td>elvenking</td>\n",
              "      <td>717</td>\n",
              "      <td>f</td>\n",
              "      <td>22.0</td>\n",
              "      <td>Germany</td>\n",
              "      <td>Feb 1, 2007</td>\n",
              "    </tr>\n",
              "    <tr>\n",
              "      <th>4</th>\n",
              "      <td>00000c289a1829a808ac09c00daf10bc3c4e223b</td>\n",
              "      <td>juliette &amp; the licks</td>\n",
              "      <td>706</td>\n",
              "      <td>f</td>\n",
              "      <td>22.0</td>\n",
              "      <td>Germany</td>\n",
              "      <td>Feb 1, 2007</td>\n",
              "    </tr>\n",
              "  </tbody>\n",
              "</table>\n",
              "</div>\n",
              "    <div class=\"colab-df-buttons\">\n",
              "\n",
              "  <div class=\"colab-df-container\">\n",
              "    <button class=\"colab-df-convert\" onclick=\"convertToInteractive('df-619e55ed-88a6-423f-938f-a3bf94d8dfff')\"\n",
              "            title=\"Convert this dataframe to an interactive table.\"\n",
              "            style=\"display:none;\">\n",
              "\n",
              "  <svg xmlns=\"http://www.w3.org/2000/svg\" height=\"24px\" viewBox=\"0 -960 960 960\">\n",
              "    <path d=\"M120-120v-720h720v720H120Zm60-500h600v-160H180v160Zm220 220h160v-160H400v160Zm0 220h160v-160H400v160ZM180-400h160v-160H180v160Zm440 0h160v-160H620v160ZM180-180h160v-160H180v160Zm440 0h160v-160H620v160Z\"/>\n",
              "  </svg>\n",
              "    </button>\n",
              "\n",
              "  <style>\n",
              "    .colab-df-container {\n",
              "      display:flex;\n",
              "      gap: 12px;\n",
              "    }\n",
              "\n",
              "    .colab-df-convert {\n",
              "      background-color: #E8F0FE;\n",
              "      border: none;\n",
              "      border-radius: 50%;\n",
              "      cursor: pointer;\n",
              "      display: none;\n",
              "      fill: #1967D2;\n",
              "      height: 32px;\n",
              "      padding: 0 0 0 0;\n",
              "      width: 32px;\n",
              "    }\n",
              "\n",
              "    .colab-df-convert:hover {\n",
              "      background-color: #E2EBFA;\n",
              "      box-shadow: 0px 1px 2px rgba(60, 64, 67, 0.3), 0px 1px 3px 1px rgba(60, 64, 67, 0.15);\n",
              "      fill: #174EA6;\n",
              "    }\n",
              "\n",
              "    .colab-df-buttons div {\n",
              "      margin-bottom: 4px;\n",
              "    }\n",
              "\n",
              "    [theme=dark] .colab-df-convert {\n",
              "      background-color: #3B4455;\n",
              "      fill: #D2E3FC;\n",
              "    }\n",
              "\n",
              "    [theme=dark] .colab-df-convert:hover {\n",
              "      background-color: #434B5C;\n",
              "      box-shadow: 0px 1px 3px 1px rgba(0, 0, 0, 0.15);\n",
              "      filter: drop-shadow(0px 1px 2px rgba(0, 0, 0, 0.3));\n",
              "      fill: #FFFFFF;\n",
              "    }\n",
              "  </style>\n",
              "\n",
              "    <script>\n",
              "      const buttonEl =\n",
              "        document.querySelector('#df-619e55ed-88a6-423f-938f-a3bf94d8dfff button.colab-df-convert');\n",
              "      buttonEl.style.display =\n",
              "        google.colab.kernel.accessAllowed ? 'block' : 'none';\n",
              "\n",
              "      async function convertToInteractive(key) {\n",
              "        const element = document.querySelector('#df-619e55ed-88a6-423f-938f-a3bf94d8dfff');\n",
              "        const dataTable =\n",
              "          await google.colab.kernel.invokeFunction('convertToInteractive',\n",
              "                                                    [key], {});\n",
              "        if (!dataTable) return;\n",
              "\n",
              "        const docLinkHtml = 'Like what you see? Visit the ' +\n",
              "          '<a target=\"_blank\" href=https://colab.research.google.com/notebooks/data_table.ipynb>data table notebook</a>'\n",
              "          + ' to learn more about interactive tables.';\n",
              "        element.innerHTML = '';\n",
              "        dataTable['output_type'] = 'display_data';\n",
              "        await google.colab.output.renderOutput(dataTable, element);\n",
              "        const docLink = document.createElement('div');\n",
              "        docLink.innerHTML = docLinkHtml;\n",
              "        element.appendChild(docLink);\n",
              "      }\n",
              "    </script>\n",
              "  </div>\n",
              "\n",
              "\n",
              "<div id=\"df-c2fc0619-c87b-4a8d-9314-d0a2dc88b4b2\">\n",
              "  <button class=\"colab-df-quickchart\" onclick=\"quickchart('df-c2fc0619-c87b-4a8d-9314-d0a2dc88b4b2')\"\n",
              "            title=\"Suggest charts\"\n",
              "            style=\"display:none;\">\n",
              "\n",
              "<svg xmlns=\"http://www.w3.org/2000/svg\" height=\"24px\"viewBox=\"0 0 24 24\"\n",
              "     width=\"24px\">\n",
              "    <g>\n",
              "        <path d=\"M19 3H5c-1.1 0-2 .9-2 2v14c0 1.1.9 2 2 2h14c1.1 0 2-.9 2-2V5c0-1.1-.9-2-2-2zM9 17H7v-7h2v7zm4 0h-2V7h2v10zm4 0h-2v-4h2v4z\"/>\n",
              "    </g>\n",
              "</svg>\n",
              "  </button>\n",
              "\n",
              "<style>\n",
              "  .colab-df-quickchart {\n",
              "      --bg-color: #E8F0FE;\n",
              "      --fill-color: #1967D2;\n",
              "      --hover-bg-color: #E2EBFA;\n",
              "      --hover-fill-color: #174EA6;\n",
              "      --disabled-fill-color: #AAA;\n",
              "      --disabled-bg-color: #DDD;\n",
              "  }\n",
              "\n",
              "  [theme=dark] .colab-df-quickchart {\n",
              "      --bg-color: #3B4455;\n",
              "      --fill-color: #D2E3FC;\n",
              "      --hover-bg-color: #434B5C;\n",
              "      --hover-fill-color: #FFFFFF;\n",
              "      --disabled-bg-color: #3B4455;\n",
              "      --disabled-fill-color: #666;\n",
              "  }\n",
              "\n",
              "  .colab-df-quickchart {\n",
              "    background-color: var(--bg-color);\n",
              "    border: none;\n",
              "    border-radius: 50%;\n",
              "    cursor: pointer;\n",
              "    display: none;\n",
              "    fill: var(--fill-color);\n",
              "    height: 32px;\n",
              "    padding: 0;\n",
              "    width: 32px;\n",
              "  }\n",
              "\n",
              "  .colab-df-quickchart:hover {\n",
              "    background-color: var(--hover-bg-color);\n",
              "    box-shadow: 0 1px 2px rgba(60, 64, 67, 0.3), 0 1px 3px 1px rgba(60, 64, 67, 0.15);\n",
              "    fill: var(--button-hover-fill-color);\n",
              "  }\n",
              "\n",
              "  .colab-df-quickchart-complete:disabled,\n",
              "  .colab-df-quickchart-complete:disabled:hover {\n",
              "    background-color: var(--disabled-bg-color);\n",
              "    fill: var(--disabled-fill-color);\n",
              "    box-shadow: none;\n",
              "  }\n",
              "\n",
              "  .colab-df-spinner {\n",
              "    border: 2px solid var(--fill-color);\n",
              "    border-color: transparent;\n",
              "    border-bottom-color: var(--fill-color);\n",
              "    animation:\n",
              "      spin 1s steps(1) infinite;\n",
              "  }\n",
              "\n",
              "  @keyframes spin {\n",
              "    0% {\n",
              "      border-color: transparent;\n",
              "      border-bottom-color: var(--fill-color);\n",
              "      border-left-color: var(--fill-color);\n",
              "    }\n",
              "    20% {\n",
              "      border-color: transparent;\n",
              "      border-left-color: var(--fill-color);\n",
              "      border-top-color: var(--fill-color);\n",
              "    }\n",
              "    30% {\n",
              "      border-color: transparent;\n",
              "      border-left-color: var(--fill-color);\n",
              "      border-top-color: var(--fill-color);\n",
              "      border-right-color: var(--fill-color);\n",
              "    }\n",
              "    40% {\n",
              "      border-color: transparent;\n",
              "      border-right-color: var(--fill-color);\n",
              "      border-top-color: var(--fill-color);\n",
              "    }\n",
              "    60% {\n",
              "      border-color: transparent;\n",
              "      border-right-color: var(--fill-color);\n",
              "    }\n",
              "    80% {\n",
              "      border-color: transparent;\n",
              "      border-right-color: var(--fill-color);\n",
              "      border-bottom-color: var(--fill-color);\n",
              "    }\n",
              "    90% {\n",
              "      border-color: transparent;\n",
              "      border-bottom-color: var(--fill-color);\n",
              "    }\n",
              "  }\n",
              "</style>\n",
              "\n",
              "  <script>\n",
              "    async function quickchart(key) {\n",
              "      const quickchartButtonEl =\n",
              "        document.querySelector('#' + key + ' button');\n",
              "      quickchartButtonEl.disabled = true;  // To prevent multiple clicks.\n",
              "      quickchartButtonEl.classList.add('colab-df-spinner');\n",
              "      try {\n",
              "        const charts = await google.colab.kernel.invokeFunction(\n",
              "            'suggestCharts', [key], {});\n",
              "      } catch (error) {\n",
              "        console.error('Error during call to suggestCharts:', error);\n",
              "      }\n",
              "      quickchartButtonEl.classList.remove('colab-df-spinner');\n",
              "      quickchartButtonEl.classList.add('colab-df-quickchart-complete');\n",
              "    }\n",
              "    (() => {\n",
              "      let quickchartButtonEl =\n",
              "        document.querySelector('#df-c2fc0619-c87b-4a8d-9314-d0a2dc88b4b2 button');\n",
              "      quickchartButtonEl.style.display =\n",
              "        google.colab.kernel.accessAllowed ? 'block' : 'none';\n",
              "    })();\n",
              "  </script>\n",
              "</div>\n",
              "\n",
              "    </div>\n",
              "  </div>\n"
            ],
            "application/vnd.google.colaboratory.intrinsic+json": {
              "type": "dataframe",
              "variable_name": "df_train"
            }
          },
          "metadata": {},
          "execution_count": 11
        }
      ],
      "source": [
        "df_train = pd.merge(df_plays, df_users, on='user_code')\n",
        "df_train.head()"
      ]
    },
    {
      "cell_type": "code",
      "execution_count": 12,
      "metadata": {
        "colab": {
          "base_uri": "https://localhost:8080/"
        },
        "id": "QRj9OS8WmxE-",
        "outputId": "3579f1d9-a3b0-4a6e-fcf2-ba55a24a4e27"
      },
      "outputs": [
        {
          "output_type": "stream",
          "name": "stdout",
          "text": [
            "length of dataframe: 100000\n"
          ]
        }
      ],
      "source": [
        "# due to limited computing power, the model will be trained and tested using the first 100,000 records.\n",
        "df_train_100k = df_train[:100000]\n",
        "print('length of dataframe:', len(df_train_100k))"
      ]
    },
    {
      "cell_type": "markdown",
      "metadata": {
        "id": "C15wo-wanYe5"
      },
      "source": [
        "1.4 Preparing the Datasets"
      ]
    },
    {
      "cell_type": "markdown",
      "metadata": {
        "id": "hXdr1I49XfDN"
      },
      "source": [
        "Now that the dataframes are cleaned, it is needed to convert them to tensorflow datasets and prepare the additional datasets that are required to create the embeddings."
      ]
    },
    {
      "cell_type": "code",
      "execution_count": 13,
      "metadata": {
        "id": "dtDsnGIlyCBr"
      },
      "outputs": [],
      "source": [
        "# convert dataframe to tensor dataset\n",
        "train_100k_tf = tf.data.Dataset.from_tensor_slices(dict(df_train_100k))"
      ]
    },
    {
      "cell_type": "code",
      "execution_count": 14,
      "metadata": {
        "id": "CBEl4DoSz25j"
      },
      "outputs": [],
      "source": [
        "# remap the dictionaries to ensure the keys are correct and consistamt\n",
        "train = train_100k_tf.map(lambda x:{\n",
        "    'user_code': x['user_code'],\n",
        "    'artist_name': x['artist_name'],\n",
        "    'gender': x['gender'],\n",
        "    'age': x['age'],\n",
        "    'country': x['country'],\n",
        "    'signup': x['signup'],\n",
        "    'plays': x['plays']\n",
        "    })"
      ]
    },
    {
      "cell_type": "markdown",
      "metadata": {
        "id": "7kl6RuIlQEPI"
      },
      "source": [
        "Shuffle the data and create test, validation and test data sets"
      ]
    },
    {
      "cell_type": "code",
      "execution_count": 15,
      "metadata": {
        "id": "xxB8B_67scza"
      },
      "outputs": [],
      "source": [
        "tf.random.set_seed(42)\n",
        "shuffled = train_100k_tf.shuffle(100000, seed=42, reshuffle_each_iteration=False)\n",
        "\n",
        "# split the data into train, validation and test\n",
        "train_shuffled = shuffled.take(80000)\n",
        "val_shuffled = shuffled.skip(80000).take(10000)\n",
        "test_shuffled = shuffled.skip(90000).take(10000)"
      ]
    },
    {
      "cell_type": "code",
      "execution_count": 16,
      "metadata": {
        "id": "Nw3yWPCKhlic"
      },
      "outputs": [],
      "source": [
        "cached_train = train_shuffled.batch(1000).cache()\n",
        "cached_val = val_shuffled.batch(1000).cache()\n",
        "cached_test = test_shuffled.batch(1000).cache()"
      ]
    },
    {
      "cell_type": "code",
      "execution_count": 17,
      "metadata": {
        "id": "vWjhw4cMJwVD"
      },
      "outputs": [],
      "source": [
        "# create unique user and artist datasets\n",
        "users = train_100k_tf.batch(1000).map(lambda x: x['user_code'])\n",
        "artists = train_100k_tf.batch(1000).map(lambda x: x['artist_name'])\n",
        "gender = train_100k_tf.batch(1000).map(lambda x: x['gender'])\n",
        "age = train_100k_tf.batch(1000).map(lambda x: x['age'])\n",
        "country = train_100k_tf.batch(1000).map(lambda x: x['country'])\n",
        "\n",
        "unique_users = np.unique(np.concatenate(list(users)))\n",
        "unique_artists = np.unique(np.concatenate(list(artists)))\n",
        "unique_gender = np.unique(np.concatenate(list(gender)))\n",
        "unique_age = np.unique(np.concatenate(list(age)))\n",
        "unique_country = np.unique(np.concatenate(list(country)))\n"
      ]
    },
    {
      "cell_type": "markdown",
      "metadata": {
        "id": "02_vUtttgb4K"
      },
      "source": [
        "\n",
        "\n",
        "---\n",
        "\n"
      ]
    },
    {
      "cell_type": "markdown",
      "metadata": {
        "id": "GnKvpS_Jpwr4"
      },
      "source": [
        "# 2 - Query Model (User Tower)\n",
        "This section delves into the construction of the first neural network (the user tower) that processes user-specific features. This model captures the user profile by learning embeddings from user attributes such as age, gender, and nationality.\n",
        "\n",
        "\n",
        "Below, five distinct user models have been developed and will be compared to evaluate the influence of features (embeddings) on model accuracy."
      ]
    },
    {
      "cell_type": "markdown",
      "metadata": {
        "id": "2bGvZbi0I_dU"
      },
      "source": [
        "2.1 Baseline Model <br>\n",
        "\n"
      ]
    },
    {
      "cell_type": "code",
      "execution_count": 18,
      "metadata": {
        "id": "BNT98UKPG79X"
      },
      "outputs": [],
      "source": [
        "class UserModelBaseline(tf.keras.Model):\n",
        "\n",
        "  def __init__(self):\n",
        "    super().__init__()\n",
        "    embedding_dimension = 16\n",
        "\n",
        "    # user embeddings\n",
        "    self.user_embedding = tf.keras.Sequential([\n",
        "        tf.keras.layers.InputLayer(input_shape=(1,), name='user_code', dtype=tf.string),\n",
        "        tf.keras.layers.StringLookup(vocabulary=unique_users, mask_token=None),\n",
        "        tf.keras.layers.Embedding(len(unique_users) + 1, embedding_dimension),\n",
        "        tf.keras.layers.Flatten(name='FlattenUser')\n",
        "    ])\n",
        "\n",
        "    # artist embeddings\n",
        "    self.artist_embedding = tf.keras.Sequential([\n",
        "        tf.keras.layers.InputLayer(input_shape=(1,), name='artist_name', dtype=tf.string),\n",
        "        tf.keras.layers.StringLookup(vocabulary=unique_artists, mask_token=None),\n",
        "        tf.keras.layers.Embedding(len(unique_artists) +1, embedding_dimension),\n",
        "        tf.keras.layers.Flatten(name='FlattenArtist')\n",
        "        ])\n",
        "\n",
        "  def call(self, inputs):\n",
        "    user = inputs['user_code']\n",
        "    artist = inputs['artist_name']\n",
        "\n",
        "    user_embedding = self.user_embedding(user)\n",
        "    artist_embedding = self.artist_embedding(artist)\n",
        "\n",
        "    # Debugging help:\n",
        "    #print(\"User embedding shape:\", user_embedding.shape)\n",
        "    #print(\"Artist embedding shape (UM):\", artist_embedding.shape)\n",
        "\n",
        "    return tf.concat([user_embedding, artist_embedding], axis=1)"
      ]
    },
    {
      "cell_type": "markdown",
      "metadata": {
        "id": "tE_G3smVGYd_"
      },
      "source": [
        "2.5 Model with Embeddings <br>"
      ]
    },
    {
      "cell_type": "code",
      "execution_count": 19,
      "metadata": {
        "id": "KpMywcPllAl1"
      },
      "outputs": [],
      "source": [
        "class UserModelAll(tf.keras.Model):\n",
        "\n",
        "  def __init__(self):\n",
        "    super().__init__()\n",
        "    embedding_dimension = 16\n",
        "\n",
        "    # user embeddings\n",
        "    self.user_embedding = tf.keras.Sequential([\n",
        "        tf.keras.layers.InputLayer(input_shape=(1,), name='user_code', dtype=tf.string),\n",
        "        tf.keras.layers.StringLookup(vocabulary=unique_users, mask_token=None),\n",
        "        tf.keras.layers.Embedding(len(unique_users) + 1, embedding_dimension),\n",
        "        tf.keras.layers.Flatten(name='FlattenUser')\n",
        "    ])\n",
        "\n",
        "    # artist embeddings\n",
        "    self.artist_embedding = tf.keras.Sequential([\n",
        "        tf.keras.layers.InputLayer(input_shape=(1,), name='artist_name', dtype=tf.string),\n",
        "        tf.keras.layers.StringLookup(vocabulary=unique_artists, mask_token=None),\n",
        "        tf.keras.layers.Embedding(len(unique_artists) +1, embedding_dimension),\n",
        "        tf.keras.layers.Flatten(name='FlattenArtist')\n",
        "        ])\n",
        "\n",
        "    # age embedding\n",
        "    self.age_embedding = tf.keras.Sequential([\n",
        "        tf.keras.layers.InputLayer(input_shape=(1,), name='age', dtype=tf.string),\n",
        "        tf.keras.layers.StringLookup(vocabulary=unique_age, mask_token=None),\n",
        "        tf.keras.layers.Embedding(len(unique_age) +1, embedding_dimension),\n",
        "        tf.keras.layers.Flatten(name='FlattenAge')\n",
        "    ])\n",
        "\n",
        "    # gender embedding\n",
        "    self.gender_embedding = tf.keras.Sequential([\n",
        "        tf.keras.layers.InputLayer(input_shape=(1,), name='gender', dtype=tf.string),\n",
        "        tf.keras.layers.StringLookup(vocabulary=unique_gender, mask_token=None),\n",
        "        tf.keras.layers.Embedding(len(unique_gender) +1,embedding_dimension),\n",
        "        tf.keras.layers.Flatten(name='FlattenGender')\n",
        "    ])\n",
        "\n",
        "    # country embedding\n",
        "    self.country_embedding = tf.keras.Sequential([\n",
        "        tf.keras.layers.InputLayer(input_shape=(1,), name='country', dtype=tf.string),\n",
        "        tf.keras.layers.StringLookup(vocabulary=unique_country, mask_token=None),\n",
        "        tf.keras.layers.Embedding(len(unique_country) +1, embedding_dimension),\n",
        "        tf.keras.layers.Flatten(name='FlattenCountry')\n",
        "    ])\n",
        "\n",
        "  def call(self, inputs):\n",
        "    user = inputs['user_code']\n",
        "    artist = inputs['artist_name']\n",
        "    age = inputs['age']\n",
        "    gender = inputs['gender']\n",
        "    country = inputs['country']\n",
        "\n",
        "    user_embedding = self.user_embedding(user)\n",
        "    artist_embedding = self.artist_embedding(artist)\n",
        "    age_embedding = self.age_embedding(age)\n",
        "    gender_embedding = self.gender_embedding(gender)\n",
        "    country_embedding = self.country_embedding(country)\n",
        "\n",
        "    # Debugging help:\n",
        "    #print(\"User embedding shape:\", user_embedding.shape)\n",
        "    #print(\"Artist embedding shape (UM):\", artist_embedding.shape)\n",
        "    #print(\"Age embedding shape:\", age_embedding.shape)\n",
        "    #print(\"Gender embedding shape:\", gender_embedding.shape)\n",
        "    #print(\"Country embedding shape:\", country_embedding.shape)\n",
        "\n",
        "    return tf.concat([user_embedding,artist_embedding, age_embedding, gender_embedding,country_embedding], axis=1)"
      ]
    },
    {
      "cell_type": "markdown",
      "metadata": {
        "id": "KbZNThRfk869"
      },
      "source": [
        "\n",
        "---\n"
      ]
    },
    {
      "cell_type": "markdown",
      "metadata": {
        "id": "FAKgWm1Up38F"
      },
      "source": [
        "# 3 - Candidate Model (Item Tower)\n",
        "This section focuses on the second neural network, known as the item tower, which processes item-specific features such as song or artist characteristics. The candidate model learns embeddings based on these features to represent each item. For this tutorial, the item tower remains constant and only utilises the artist's name as a feature"
      ]
    },
    {
      "cell_type": "code",
      "execution_count": 20,
      "metadata": {
        "id": "iIC6PixmJ59U"
      },
      "outputs": [],
      "source": [
        "class ArtistModel(tf.keras.Model):\n",
        "\n",
        "  def __init__(self):\n",
        "    super().__init__()\n",
        "    embedding_dimension = 32\n",
        "\n",
        "    # artist embedding\n",
        "    self.artist_embedding = tf.keras.Sequential([\n",
        "        tf.keras.layers.InputLayer(input_shape=(1,), name = 'artist_name', dtype = tf.string),\n",
        "        tf.keras.layers.StringLookup(vocabulary=unique_artists, mask_token=None),\n",
        "        tf.keras.layers.Embedding(len(unique_artists) + 1, embedding_dimension),\n",
        "        tf.keras.layers.Flatten(name='FlattenArtistCan')\n",
        "    ])\n",
        "\n",
        "  def call(self, inputs):\n",
        "\n",
        "    artist = inputs['artist_name']\n",
        "\n",
        "    artist_embedding = self.artist_embedding(artist)\n",
        "\n",
        "    return artist_embedding"
      ]
    },
    {
      "cell_type": "markdown",
      "metadata": {
        "id": "xPXCDHQeJ0uu"
      },
      "source": [
        "---"
      ]
    },
    {
      "cell_type": "markdown",
      "metadata": {
        "id": "zxvzrhAAqGx-"
      },
      "source": [
        "# 4 - Combined Model\n",
        "This part encompasses building the retrieval model that combines the outputs of the query and candidate models to generate recommendations. It discusses the method for calculating the similarity between user and item embeddings, enabling the retrieval of relevant recommendations based on this similarity"
      ]
    },
    {
      "cell_type": "markdown",
      "metadata": {
        "id": "x5qQ0f1sNUS7"
      },
      "source": [
        "4.1 Baseline Model <br>"
      ]
    },
    {
      "cell_type": "code",
      "execution_count": 21,
      "metadata": {
        "id": "OjZ1hmdvNXxz"
      },
      "outputs": [],
      "source": [
        "class RetrievalModelBase(tfrs.models.Model):\n",
        "\n",
        "  def __init__(self):\n",
        "    super().__init__()\n",
        "\n",
        "    self.query_model = tf.keras.Sequential([\n",
        "        UserModelBaseline(),\n",
        "        tf.keras.layers.Dense(32, kernel_regularizer=tf.keras.regularizers.l2(0.1)),\n",
        "        tf.keras.layers.Dropout(0.5)\n",
        "    ])\n",
        "\n",
        "    self.candidate_model = tf.keras.Sequential([\n",
        "        ArtistModel(),\n",
        "        tf.keras.layers.Dense(32, kernel_regularizer=tf.keras.regularizers.l2(0.1)),\n",
        "        tf.keras.layers.Dropout(0.5)\n",
        "    ])\n",
        "\n",
        "    self.task = tfrs.tasks.Retrieval(\n",
        "        metrics=tfrs.metrics.FactorizedTopK(\n",
        "            candidates=train_100k_tf.batch(128).map(self.candidate_model)))\n",
        "\n",
        "\n",
        "  def compute_loss(self, features, training=False):\n",
        "\n",
        "    query_embeddings = self.query_model({\n",
        "        'user_code': features['user_code'],\n",
        "        'artist_name': features['artist_name'],\n",
        "    })\n",
        "\n",
        "    candidate_embeddings = self.candidate_model({\n",
        "        'artist_name': features['artist_name'],\n",
        "    })\n",
        "\n",
        "    # Debugging help:\n",
        "    #print(\"Shape of query_embeddings:\", query_embeddings.shape)\n",
        "    #print(\"Shape of candidate_embeddings:\", candidate_embeddings.shape)\n",
        "\n",
        "    return self.task(query_embeddings, candidate_embeddings)"
      ]
    },
    {
      "cell_type": "markdown",
      "metadata": {
        "id": "3rFH-LxdOn7-"
      },
      "source": [
        "Training of the model:"
      ]
    },
    {
      "cell_type": "code",
      "execution_count": 22,
      "metadata": {
        "id": "MSXg3LQdOnr1"
      },
      "outputs": [],
      "source": [
        "retrieval_model_base = RetrievalModelBase()\n",
        "tensorboard_callback_base = tf.keras.callbacks.TensorBoard(log_dir=os.path.join(dir, '03-Weights', 'logs-base'))\n",
        "retrieval_model_base.compile(optimizer=tf.keras.optimizers.Adagrad(0.1), run_eagerly=True)"
      ]
    },
    {
      "cell_type": "code",
      "execution_count": 23,
      "metadata": {
        "colab": {
          "base_uri": "https://localhost:8080/"
        },
        "id": "JXuBdJCKPfYV",
        "outputId": "735e09b0-a637-4e18-8dba-e15156241b16"
      },
      "outputs": [
        {
          "output_type": "stream",
          "name": "stdout",
          "text": [
            "Epoch 1/10\n",
            "80/80 [==============================] - 195s 2s/step - factorized_top_k/top_1_categorical_accuracy: 0.2034 - factorized_top_k/top_5_categorical_accuracy: 0.2035 - factorized_top_k/top_10_categorical_accuracy: 0.2092 - factorized_top_k/top_50_categorical_accuracy: 0.2925 - factorized_top_k/top_100_categorical_accuracy: 0.3477 - loss: 4068.0433 - regularization_loss: 26.1666 - total_loss: 4094.2099 - val_factorized_top_k/top_1_categorical_accuracy: 0.3301 - val_factorized_top_k/top_5_categorical_accuracy: 0.3306 - val_factorized_top_k/top_10_categorical_accuracy: 0.3589 - val_factorized_top_k/top_50_categorical_accuracy: 0.5005 - val_factorized_top_k/top_100_categorical_accuracy: 0.5610 - val_loss: 2795.7417 - val_regularization_loss: 35.6741 - val_total_loss: 2831.4158\n",
            "Epoch 2/10\n",
            "80/80 [==============================] - 194s 2s/step - factorized_top_k/top_1_categorical_accuracy: 0.3821 - factorized_top_k/top_5_categorical_accuracy: 0.3930 - factorized_top_k/top_10_categorical_accuracy: 0.4362 - factorized_top_k/top_50_categorical_accuracy: 0.5871 - factorized_top_k/top_100_categorical_accuracy: 0.6494 - loss: 2030.7130 - regularization_loss: 41.3070 - total_loss: 2072.0200 - val_factorized_top_k/top_1_categorical_accuracy: 0.4021 - val_factorized_top_k/top_5_categorical_accuracy: 0.4199 - val_factorized_top_k/top_10_categorical_accuracy: 0.4628 - val_factorized_top_k/top_50_categorical_accuracy: 0.6066 - val_factorized_top_k/top_100_categorical_accuracy: 0.6607 - val_loss: 2356.6440 - val_regularization_loss: 46.0130 - val_total_loss: 2402.6570\n",
            "Epoch 3/10\n",
            "80/80 [==============================] - 194s 2s/step - factorized_top_k/top_1_categorical_accuracy: 0.4446 - factorized_top_k/top_5_categorical_accuracy: 0.4835 - factorized_top_k/top_10_categorical_accuracy: 0.5413 - factorized_top_k/top_50_categorical_accuracy: 0.6904 - factorized_top_k/top_100_categorical_accuracy: 0.7443 - loss: 1305.8336 - regularization_loss: 50.2700 - total_loss: 1356.1036 - val_factorized_top_k/top_1_categorical_accuracy: 0.4421 - val_factorized_top_k/top_5_categorical_accuracy: 0.4775 - val_factorized_top_k/top_10_categorical_accuracy: 0.5296 - val_factorized_top_k/top_50_categorical_accuracy: 0.6729 - val_factorized_top_k/top_100_categorical_accuracy: 0.7229 - val_loss: 2257.3733 - val_regularization_loss: 54.5821 - val_total_loss: 2311.9553\n",
            "Epoch 4/10\n",
            "80/80 [==============================] - 195s 2s/step - factorized_top_k/top_1_categorical_accuracy: 0.4522 - factorized_top_k/top_5_categorical_accuracy: 0.5063 - factorized_top_k/top_10_categorical_accuracy: 0.5723 - factorized_top_k/top_50_categorical_accuracy: 0.7235 - factorized_top_k/top_100_categorical_accuracy: 0.7853 - loss: 781.5840 - regularization_loss: 62.7291 - total_loss: 844.3131 - val_factorized_top_k/top_1_categorical_accuracy: 0.4079 - val_factorized_top_k/top_5_categorical_accuracy: 0.4632 - val_factorized_top_k/top_10_categorical_accuracy: 0.5233 - val_factorized_top_k/top_50_categorical_accuracy: 0.6909 - val_factorized_top_k/top_100_categorical_accuracy: 0.7435 - val_loss: 2528.9082 - val_regularization_loss: 69.3448 - val_total_loss: 2598.2529\n",
            "Epoch 5/10\n",
            "80/80 [==============================] - 195s 2s/step - factorized_top_k/top_1_categorical_accuracy: 0.4133 - factorized_top_k/top_5_categorical_accuracy: 0.4939 - factorized_top_k/top_10_categorical_accuracy: 0.5807 - factorized_top_k/top_50_categorical_accuracy: 0.7940 - factorized_top_k/top_100_categorical_accuracy: 0.8631 - loss: 581.6667 - regularization_loss: 69.8396 - total_loss: 651.5062 - val_factorized_top_k/top_1_categorical_accuracy: 0.3856 - val_factorized_top_k/top_5_categorical_accuracy: 0.4648 - val_factorized_top_k/top_10_categorical_accuracy: 0.5299 - val_factorized_top_k/top_50_categorical_accuracy: 0.7110 - val_factorized_top_k/top_100_categorical_accuracy: 0.7619 - val_loss: 2336.8525 - val_regularization_loss: 67.2183 - val_total_loss: 2404.0708\n",
            "Epoch 6/10\n",
            "80/80 [==============================] - 195s 2s/step - factorized_top_k/top_1_categorical_accuracy: 0.4482 - factorized_top_k/top_5_categorical_accuracy: 0.5567 - factorized_top_k/top_10_categorical_accuracy: 0.6488 - factorized_top_k/top_50_categorical_accuracy: 0.8306 - factorized_top_k/top_100_categorical_accuracy: 0.8885 - loss: 544.2249 - regularization_loss: 64.1284 - total_loss: 608.3533 - val_factorized_top_k/top_1_categorical_accuracy: 0.4302 - val_factorized_top_k/top_5_categorical_accuracy: 0.5080 - val_factorized_top_k/top_10_categorical_accuracy: 0.5781 - val_factorized_top_k/top_50_categorical_accuracy: 0.7146 - val_factorized_top_k/top_100_categorical_accuracy: 0.7644 - val_loss: 2025.6876 - val_regularization_loss: 62.1452 - val_total_loss: 2087.8328\n",
            "Epoch 7/10\n",
            "80/80 [==============================] - 194s 2s/step - factorized_top_k/top_1_categorical_accuracy: 0.5041 - factorized_top_k/top_5_categorical_accuracy: 0.6284 - factorized_top_k/top_10_categorical_accuracy: 0.7089 - factorized_top_k/top_50_categorical_accuracy: 0.8536 - factorized_top_k/top_100_categorical_accuracy: 0.9104 - loss: 399.2496 - regularization_loss: 62.7942 - total_loss: 462.0438 - val_factorized_top_k/top_1_categorical_accuracy: 0.4760 - val_factorized_top_k/top_5_categorical_accuracy: 0.5530 - val_factorized_top_k/top_10_categorical_accuracy: 0.6189 - val_factorized_top_k/top_50_categorical_accuracy: 0.7427 - val_factorized_top_k/top_100_categorical_accuracy: 0.7890 - val_loss: 1999.6047 - val_regularization_loss: 63.9363 - val_total_loss: 2063.5410\n",
            "Epoch 8/10\n",
            "80/80 [==============================] - 194s 2s/step - factorized_top_k/top_1_categorical_accuracy: 0.5516 - factorized_top_k/top_5_categorical_accuracy: 0.6882 - factorized_top_k/top_10_categorical_accuracy: 0.7583 - factorized_top_k/top_50_categorical_accuracy: 0.8904 - factorized_top_k/top_100_categorical_accuracy: 0.9394 - loss: 302.2860 - regularization_loss: 64.7953 - total_loss: 367.0813 - val_factorized_top_k/top_1_categorical_accuracy: 0.5097 - val_factorized_top_k/top_5_categorical_accuracy: 0.5848 - val_factorized_top_k/top_10_categorical_accuracy: 0.6435 - val_factorized_top_k/top_50_categorical_accuracy: 0.7525 - val_factorized_top_k/top_100_categorical_accuracy: 0.7929 - val_loss: 2020.8794 - val_regularization_loss: 65.3658 - val_total_loss: 2086.2451\n",
            "Epoch 9/10\n",
            "80/80 [==============================] - 194s 2s/step - factorized_top_k/top_1_categorical_accuracy: 0.5954 - factorized_top_k/top_5_categorical_accuracy: 0.7380 - factorized_top_k/top_10_categorical_accuracy: 0.7969 - factorized_top_k/top_50_categorical_accuracy: 0.9090 - factorized_top_k/top_100_categorical_accuracy: 0.9516 - loss: 256.2425 - regularization_loss: 65.2180 - total_loss: 321.4606 - val_factorized_top_k/top_1_categorical_accuracy: 0.5234 - val_factorized_top_k/top_5_categorical_accuracy: 0.5935 - val_factorized_top_k/top_10_categorical_accuracy: 0.6453 - val_factorized_top_k/top_50_categorical_accuracy: 0.7555 - val_factorized_top_k/top_100_categorical_accuracy: 0.7973 - val_loss: 2073.6997 - val_regularization_loss: 64.9195 - val_total_loss: 2138.6191\n",
            "Epoch 10/10\n",
            "80/80 [==============================] - 193s 2s/step - factorized_top_k/top_1_categorical_accuracy: 0.6309 - factorized_top_k/top_5_categorical_accuracy: 0.7612 - factorized_top_k/top_10_categorical_accuracy: 0.8086 - factorized_top_k/top_50_categorical_accuracy: 0.9112 - factorized_top_k/top_100_categorical_accuracy: 0.9524 - loss: 240.5465 - regularization_loss: 64.1670 - total_loss: 304.7134 - val_factorized_top_k/top_1_categorical_accuracy: 0.5376 - val_factorized_top_k/top_5_categorical_accuracy: 0.6003 - val_factorized_top_k/top_10_categorical_accuracy: 0.6481 - val_factorized_top_k/top_50_categorical_accuracy: 0.7546 - val_factorized_top_k/top_100_categorical_accuracy: 0.7936 - val_loss: 2073.6130 - val_regularization_loss: 63.3449 - val_total_loss: 2136.9580\n"
          ]
        }
      ],
      "source": [
        "history_base = retrieval_model_base.fit(x=cached_train, validation_data=cached_val, epochs=10, batch_size=64, callbacks=[tensorboard_callback_base])"
      ]
    },
    {
      "cell_type": "markdown",
      "metadata": {
        "id": "YvCn7M3kJ8AE"
      },
      "source": [
        "4.2 Model with Embeddings <br>"
      ]
    },
    {
      "cell_type": "code",
      "execution_count": 24,
      "metadata": {
        "id": "-epLPJH0N4_T"
      },
      "outputs": [],
      "source": [
        "class RetrievalModelAll(tfrs.models.Model):\n",
        "\n",
        "  def __init__(self):\n",
        "    super().__init__()\n",
        "\n",
        "    self.query_model = tf.keras.Sequential([\n",
        "        UserModelAll(),\n",
        "        tf.keras.layers.Dense(32, kernel_regularizer=tf.keras.regularizers.l2(0.1)),\n",
        "        tf.keras.layers.Dropout(0.5)\n",
        "    ])\n",
        "\n",
        "    self.candidate_model = tf.keras.Sequential([\n",
        "        ArtistModel(),\n",
        "        tf.keras.layers.Dense(32, kernel_regularizer=tf.keras.regularizers.l2(0.1)),\n",
        "        tf.keras.layers.Dropout(0.5)\n",
        "    ])\n",
        "\n",
        "    self.task = tfrs.tasks.Retrieval(\n",
        "        metrics=tfrs.metrics.FactorizedTopK(\n",
        "            candidates=train_100k_tf.batch(128).map(self.candidate_model)))\n",
        "\n",
        "\n",
        "  def compute_loss(self, features, training=False):\n",
        "\n",
        "    query_embeddings = self.query_model({\n",
        "        'user_code': features['user_code'],\n",
        "        'artist_name': features['artist_name'],\n",
        "        'age': features['age'],\n",
        "        'gender': features['gender'],\n",
        "        'country': features['country'],\n",
        "    })\n",
        "\n",
        "    candidate_embeddings = self.candidate_model({\n",
        "        'artist_name': features['artist_name'],\n",
        "    })\n",
        "\n",
        "    # Debugging help:\n",
        "    #print(\"Shape of query_embeddings:\", query_embeddings.shape)\n",
        "    #print(\"Shape of candidate_embeddings:\", candidate_embeddings.shape)\n",
        "\n",
        "    return self.task(query_embeddings, candidate_embeddings)"
      ]
    },
    {
      "cell_type": "markdown",
      "metadata": {
        "id": "T7KNqzG0I_Qs"
      },
      "source": [
        "Training of the model:"
      ]
    },
    {
      "cell_type": "code",
      "execution_count": 25,
      "metadata": {
        "id": "QA0jjLS8Ms1_"
      },
      "outputs": [],
      "source": [
        "retrieval_model_all = RetrievalModelAll()\n",
        "tensorboard_callback_all = tf.keras.callbacks.TensorBoard(log_dir=os.path.join(dir, '03-Weights', 'logs'))\n",
        "retrieval_model_all.compile(optimizer=tf.keras.optimizers.Adagrad(0.1), run_eagerly=True)"
      ]
    },
    {
      "cell_type": "code",
      "execution_count": 26,
      "metadata": {
        "colab": {
          "base_uri": "https://localhost:8080/"
        },
        "id": "qEdN2l_NfI6H",
        "outputId": "95d5039b-d730-4a0a-d7b3-74966eef2eec"
      },
      "outputs": [
        {
          "output_type": "stream",
          "name": "stdout",
          "text": [
            "Epoch 1/10\n",
            "80/80 [==============================] - 194s 2s/step - factorized_top_k/top_1_categorical_accuracy: 0.1803 - factorized_top_k/top_5_categorical_accuracy: 0.1803 - factorized_top_k/top_10_categorical_accuracy: 0.1858 - factorized_top_k/top_50_categorical_accuracy: 0.2634 - factorized_top_k/top_100_categorical_accuracy: 0.3191 - loss: 4250.0809 - regularization_loss: 24.6170 - total_loss: 4274.6979 - val_factorized_top_k/top_1_categorical_accuracy: 0.3143 - val_factorized_top_k/top_5_categorical_accuracy: 0.3143 - val_factorized_top_k/top_10_categorical_accuracy: 0.3367 - val_factorized_top_k/top_50_categorical_accuracy: 0.4809 - val_factorized_top_k/top_100_categorical_accuracy: 0.5450 - val_loss: 2893.5068 - val_regularization_loss: 33.6943 - val_total_loss: 2927.2012\n",
            "Epoch 2/10\n",
            "80/80 [==============================] - 196s 2s/step - factorized_top_k/top_1_categorical_accuracy: 0.3541 - factorized_top_k/top_5_categorical_accuracy: 0.3620 - factorized_top_k/top_10_categorical_accuracy: 0.4001 - factorized_top_k/top_50_categorical_accuracy: 0.5570 - factorized_top_k/top_100_categorical_accuracy: 0.6241 - loss: 2175.4906 - regularization_loss: 38.4643 - total_loss: 2213.9549 - val_factorized_top_k/top_1_categorical_accuracy: 0.3714 - val_factorized_top_k/top_5_categorical_accuracy: 0.3880 - val_factorized_top_k/top_10_categorical_accuracy: 0.4246 - val_factorized_top_k/top_50_categorical_accuracy: 0.5747 - val_factorized_top_k/top_100_categorical_accuracy: 0.6367 - val_loss: 2454.9614 - val_regularization_loss: 43.5793 - val_total_loss: 2498.5408\n",
            "Epoch 3/10\n",
            "80/80 [==============================] - 195s 2s/step - factorized_top_k/top_1_categorical_accuracy: 0.4151 - factorized_top_k/top_5_categorical_accuracy: 0.4457 - factorized_top_k/top_10_categorical_accuracy: 0.4984 - factorized_top_k/top_50_categorical_accuracy: 0.6619 - factorized_top_k/top_100_categorical_accuracy: 0.7222 - loss: 1361.2019 - regularization_loss: 48.4650 - total_loss: 1409.6669 - val_factorized_top_k/top_1_categorical_accuracy: 0.4011 - val_factorized_top_k/top_5_categorical_accuracy: 0.4288 - val_factorized_top_k/top_10_categorical_accuracy: 0.4737 - val_factorized_top_k/top_50_categorical_accuracy: 0.6302 - val_factorized_top_k/top_100_categorical_accuracy: 0.6876 - val_loss: 2540.2119 - val_regularization_loss: 53.9174 - val_total_loss: 2594.1294\n",
            "Epoch 4/10\n",
            "80/80 [==============================] - 195s 2s/step - factorized_top_k/top_1_categorical_accuracy: 0.4132 - factorized_top_k/top_5_categorical_accuracy: 0.4585 - factorized_top_k/top_10_categorical_accuracy: 0.5222 - factorized_top_k/top_50_categorical_accuracy: 0.7064 - factorized_top_k/top_100_categorical_accuracy: 0.7798 - loss: 785.7142 - regularization_loss: 61.8544 - total_loss: 847.5687 - val_factorized_top_k/top_1_categorical_accuracy: 0.3851 - val_factorized_top_k/top_5_categorical_accuracy: 0.4233 - val_factorized_top_k/top_10_categorical_accuracy: 0.4753 - val_factorized_top_k/top_50_categorical_accuracy: 0.6509 - val_factorized_top_k/top_100_categorical_accuracy: 0.7065 - val_loss: 3129.6211 - val_regularization_loss: 67.3662 - val_total_loss: 3196.9873\n",
            "Epoch 5/10\n",
            "80/80 [==============================] - 194s 2s/step - factorized_top_k/top_1_categorical_accuracy: 0.4381 - factorized_top_k/top_5_categorical_accuracy: 0.5159 - factorized_top_k/top_10_categorical_accuracy: 0.6000 - factorized_top_k/top_50_categorical_accuracy: 0.8114 - factorized_top_k/top_100_categorical_accuracy: 0.8793 - loss: 580.5964 - regularization_loss: 67.0819 - total_loss: 647.6783 - val_factorized_top_k/top_1_categorical_accuracy: 0.4009 - val_factorized_top_k/top_5_categorical_accuracy: 0.4427 - val_factorized_top_k/top_10_categorical_accuracy: 0.5008 - val_factorized_top_k/top_50_categorical_accuracy: 0.6743 - val_factorized_top_k/top_100_categorical_accuracy: 0.7326 - val_loss: 2745.1895 - val_regularization_loss: 64.5708 - val_total_loss: 2809.7603\n",
            "Epoch 6/10\n",
            "80/80 [==============================] - 195s 2s/step - factorized_top_k/top_1_categorical_accuracy: 0.4932 - factorized_top_k/top_5_categorical_accuracy: 0.5950 - factorized_top_k/top_10_categorical_accuracy: 0.6769 - factorized_top_k/top_50_categorical_accuracy: 0.8468 - factorized_top_k/top_100_categorical_accuracy: 0.9040 - loss: 462.0465 - regularization_loss: 63.9914 - total_loss: 526.0380 - val_factorized_top_k/top_1_categorical_accuracy: 0.4282 - val_factorized_top_k/top_5_categorical_accuracy: 0.4680 - val_factorized_top_k/top_10_categorical_accuracy: 0.5264 - val_factorized_top_k/top_50_categorical_accuracy: 0.6858 - val_factorized_top_k/top_100_categorical_accuracy: 0.7366 - val_loss: 2639.2385 - val_regularization_loss: 64.1250 - val_total_loss: 2703.3635\n",
            "Epoch 7/10\n",
            "80/80 [==============================] - 199s 2s/step - factorized_top_k/top_1_categorical_accuracy: 0.5440 - factorized_top_k/top_5_categorical_accuracy: 0.6655 - factorized_top_k/top_10_categorical_accuracy: 0.7398 - factorized_top_k/top_50_categorical_accuracy: 0.8872 - factorized_top_k/top_100_categorical_accuracy: 0.9405 - loss: 316.3166 - regularization_loss: 65.0407 - total_loss: 381.3573 - val_factorized_top_k/top_1_categorical_accuracy: 0.4528 - val_factorized_top_k/top_5_categorical_accuracy: 0.4933 - val_factorized_top_k/top_10_categorical_accuracy: 0.5512 - val_factorized_top_k/top_50_categorical_accuracy: 0.6977 - val_factorized_top_k/top_100_categorical_accuracy: 0.7505 - val_loss: 2720.1145 - val_regularization_loss: 65.6446 - val_total_loss: 2785.7590\n",
            "Epoch 8/10\n",
            "80/80 [==============================] - 198s 2s/step - factorized_top_k/top_1_categorical_accuracy: 0.5906 - factorized_top_k/top_5_categorical_accuracy: 0.7258 - factorized_top_k/top_10_categorical_accuracy: 0.7879 - factorized_top_k/top_50_categorical_accuracy: 0.9089 - factorized_top_k/top_100_categorical_accuracy: 0.9541 - loss: 255.7860 - regularization_loss: 65.3750 - total_loss: 321.1610 - val_factorized_top_k/top_1_categorical_accuracy: 0.4563 - val_factorized_top_k/top_5_categorical_accuracy: 0.4960 - val_factorized_top_k/top_10_categorical_accuracy: 0.5514 - val_factorized_top_k/top_50_categorical_accuracy: 0.6993 - val_factorized_top_k/top_100_categorical_accuracy: 0.7519 - val_loss: 2751.2954 - val_regularization_loss: 64.7956 - val_total_loss: 2816.0911\n",
            "Epoch 9/10\n",
            "80/80 [==============================] - 197s 2s/step - factorized_top_k/top_1_categorical_accuracy: 0.6169 - factorized_top_k/top_5_categorical_accuracy: 0.7471 - factorized_top_k/top_10_categorical_accuracy: 0.7995 - factorized_top_k/top_50_categorical_accuracy: 0.9117 - factorized_top_k/top_100_categorical_accuracy: 0.9545 - loss: 239.1462 - regularization_loss: 63.8243 - total_loss: 302.9705 - val_factorized_top_k/top_1_categorical_accuracy: 0.4598 - val_factorized_top_k/top_5_categorical_accuracy: 0.4978 - val_factorized_top_k/top_10_categorical_accuracy: 0.5546 - val_factorized_top_k/top_50_categorical_accuracy: 0.6997 - val_factorized_top_k/top_100_categorical_accuracy: 0.7531 - val_loss: 2743.1421 - val_regularization_loss: 62.7852 - val_total_loss: 2805.9272\n",
            "Epoch 10/10\n",
            "80/80 [==============================] - 196s 2s/step - factorized_top_k/top_1_categorical_accuracy: 0.6288 - factorized_top_k/top_5_categorical_accuracy: 0.7506 - factorized_top_k/top_10_categorical_accuracy: 0.8009 - factorized_top_k/top_50_categorical_accuracy: 0.9095 - factorized_top_k/top_100_categorical_accuracy: 0.9530 - loss: 236.2770 - regularization_loss: 61.7416 - total_loss: 298.0185 - val_factorized_top_k/top_1_categorical_accuracy: 0.4561 - val_factorized_top_k/top_5_categorical_accuracy: 0.4964 - val_factorized_top_k/top_10_categorical_accuracy: 0.5501 - val_factorized_top_k/top_50_categorical_accuracy: 0.6943 - val_factorized_top_k/top_100_categorical_accuracy: 0.7461 - val_loss: 2737.2087 - val_regularization_loss: 60.7248 - val_total_loss: 2797.9336\n"
          ]
        }
      ],
      "source": [
        "history_all = retrieval_model_all.fit(x=cached_train, validation_data=cached_val, epochs=10, batch_size=64, callbacks=[tensorboard_callback_all])"
      ]
    },
    {
      "cell_type": "code",
      "execution_count": 27,
      "metadata": {
        "id": "EyjOoXpjX7K7"
      },
      "outputs": [],
      "source": [
        "# Save model weights for prediction/serving phase\n",
        "retrieval_model_all.save_weights(filepath= os.path.join(dir, '03-Weights', 'trained_n_personalized_model'), overwrite=True)"
      ]
    },
    {
      "cell_type": "markdown",
      "metadata": {
        "id": "F-DzJdj1qjen"
      },
      "source": [
        "4.6 Results"
      ]
    },
    {
      "cell_type": "markdown",
      "metadata": {
        "id": "jpe0Y6BQKrbT"
      },
      "source": [
        "Now the two models are trained we can compare the Training and Validation loss of the models."
      ]
    },
    {
      "cell_type": "code",
      "execution_count": 28,
      "metadata": {
        "colab": {
          "base_uri": "https://localhost:8080/",
          "height": 472
        },
        "id": "q5fXreK_LOGU",
        "outputId": "edde338f-58f5-49cf-86c4-82af3ce9f1ee"
      },
      "outputs": [
        {
          "output_type": "display_data",
          "data": {
            "text/plain": [
              "<Figure size 640x480 with 1 Axes>"
            ],
            "image/png": "[encoded data removed]"
          },
          "metadata": {}
        }
      ],
      "source": [
        "plt.plot(history_base.history['loss'])\n",
        "plt.plot(history_all.history['loss'])\n",
        "plt.plot(history_base.history['val_loss'])\n",
        "plt.plot(history_all.history['val_loss'])\n",
        "plt.title('Train and Validation Loss')\n",
        "plt.ylabel('loss')\n",
        "plt.xlabel('epoch')\n",
        "plt.legend(['Baseline Loss (train)', 'Embedding Loss (train)', 'Baseline Loss (val)', 'Embedding Loss (val)'], loc='upper right')\n",
        "plt.show()"
      ]
    },
    {
      "cell_type": "markdown",
      "source": [
        "As can be seen from the graphs above, the model is performing poorly. While the train loss continues to decrease, the validation loss remains high. This is a strong indication that the model is overfitting the data despite the measures taken against it, i.e. the dropout layer and the L2 regularisation of the dense layer.\n",
        "\n",
        "The overfitting appears to be confirmed by the fact that the embedding model performs worse than the baseline. It would be expected that in collaborative filtering, the additional information about the listener would help to improve accuracy. This trend can be triple checked by testing the models on the test datasets, data that the model hasn't encountered yet. This is not necessary, but has been done below for the sake of thoroughness.\n",
        "\n",
        "Overfitting can be caused by a number of issues:\n",
        "* Feature engineering and data quality: the features selected either have no predictive relationship and/or are poorly processed. This creates noise that the model learns rather than the underlying patterns.\n",
        "* Model complexity: Neural networks are inherently high variance machines. Because of their ability to learn complex patterns, they tend to overfit. Architecturally, this can be addressed by simplifying the network and/or adding regularisation.\n",
        "\n",
        "In addition to the above, cross validation can be added to the data pipeline to combat overfitting.\n"
      ],
      "metadata": {
        "id": "C7etX-DlnL-I"
      }
    },
    {
      "cell_type": "code",
      "execution_count": 29,
      "metadata": {
        "colab": {
          "base_uri": "https://localhost:8080/"
        },
        "id": "IDB6c_7pZhqL",
        "outputId": "f3dea30d-cfbd-49d9-ea44-e49309e840eb"
      },
      "outputs": [
        {
          "output_type": "stream",
          "name": "stdout",
          "text": [
            "10/10 [==============================] - 23s 2s/step - factorized_top_k/top_1_categorical_accuracy: 0.5441 - factorized_top_k/top_5_categorical_accuracy: 0.6087 - factorized_top_k/top_10_categorical_accuracy: 0.6539 - factorized_top_k/top_50_categorical_accuracy: 0.7569 - factorized_top_k/top_100_categorical_accuracy: 0.7974 - loss: 1987.8187 - regularization_loss: 63.3449 - total_loss: 2051.1636\n"
          ]
        },
        {
          "output_type": "execute_result",
          "data": {
            "text/plain": [
              "{'factorized_top_k/top_1_categorical_accuracy': 0.5440999865531921,\n",
              " 'factorized_top_k/top_5_categorical_accuracy': 0.6086999773979187,\n",
              " 'factorized_top_k/top_10_categorical_accuracy': 0.6539000272750854,\n",
              " 'factorized_top_k/top_50_categorical_accuracy': 0.7569000124931335,\n",
              " 'factorized_top_k/top_100_categorical_accuracy': 0.7973999977111816,\n",
              " 'loss': 1961.7646484375,\n",
              " 'regularization_loss': 63.34489440917969,\n",
              " 'total_loss': 2025.1094970703125}"
            ]
          },
          "metadata": {},
          "execution_count": 29
        }
      ],
      "source": [
        "# testing the basline model against the test dataset\n",
        "retrieval_model_base.evaluate(cached_test, return_dict=True)"
      ]
    },
    {
      "cell_type": "code",
      "execution_count": 30,
      "metadata": {
        "colab": {
          "base_uri": "https://localhost:8080/"
        },
        "id": "Y7NtTi7LgGPx",
        "outputId": "a603dd05-374d-4d34-8906-6453b9e091b7"
      },
      "outputs": [
        {
          "output_type": "stream",
          "name": "stdout",
          "text": [
            "10/10 [==============================] - 22s 2s/step - factorized_top_k/top_1_categorical_accuracy: 0.4623 - factorized_top_k/top_5_categorical_accuracy: 0.5018 - factorized_top_k/top_10_categorical_accuracy: 0.5534 - factorized_top_k/top_50_categorical_accuracy: 0.6962 - factorized_top_k/top_100_categorical_accuracy: 0.7515 - loss: 2556.2379 - regularization_loss: 60.7248 - total_loss: 2616.9628\n"
          ]
        },
        {
          "output_type": "execute_result",
          "data": {
            "text/plain": [
              "{'factorized_top_k/top_1_categorical_accuracy': 0.46230000257492065,\n",
              " 'factorized_top_k/top_5_categorical_accuracy': 0.501800000667572,\n",
              " 'factorized_top_k/top_10_categorical_accuracy': 0.5533999800682068,\n",
              " 'factorized_top_k/top_50_categorical_accuracy': 0.6962000131607056,\n",
              " 'factorized_top_k/top_100_categorical_accuracy': 0.7515000104904175,\n",
              " 'loss': 2598.1708984375,\n",
              " 'regularization_loss': 60.72481918334961,\n",
              " 'total_loss': 2658.895751953125}"
            ]
          },
          "metadata": {},
          "execution_count": 30
        }
      ],
      "source": [
        "# testing the embeddings model against the test dataset\n",
        "retrieval_model_all.evaluate(cached_test, return_dict=True)"
      ]
    },
    {
      "cell_type": "markdown",
      "source": [
        "---"
      ],
      "metadata": {
        "id": "_jjHv8f2u3Ay"
      }
    },
    {
      "cell_type": "markdown",
      "metadata": {
        "id": "_hH12Pv3qLRF"
      },
      "source": [
        "# 5 - Predictions"
      ]
    },
    {
      "cell_type": "markdown",
      "source": [
        "The ML recommender model will be used to suggest new artists to listeners. This will be demonstrated here once the overfitting issue is resolved."
      ],
      "metadata": {
        "id": "MIC8dgbPve3L"
      }
    },
    {
      "cell_type": "markdown",
      "source": [
        "# 6 - Summary"
      ],
      "metadata": {
        "id": "P9-5h57KvbKr"
      }
    },
    {
      "cell_type": "markdown",
      "source": [
        "  *to be completed once model in corrected*"
      ],
      "metadata": {
        "id": "WCB55FnVvfby"
      }
    },
    {
      "cell_type": "code",
      "source": [],
      "metadata": {
        "id": "3Jn1DoBEvo0w"
      },
      "execution_count": 30,
      "outputs": []
    }
  ],
  "metadata": {
    "colab": {
      "machine_shape": "hm",
      "provenance": [],
      "authorship_tag": "ABX9TyNetvFRbX0EnqC+a2ASjldU",
      "include_colab_link": true
    },
    "kernelspec": {
      "display_name": "Python 3",
      "name": "python3"
    },
    "language_info": {
      "name": "python"
    }
  },
  "nbformat": 4,
  "nbformat_minor": 0
}
